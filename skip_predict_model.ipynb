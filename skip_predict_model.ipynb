{
 "cells": [
  {
   "cell_type": "markdown",
   "id": "fd202c6c",
   "metadata": {},
   "source": [
    "## Project Motivation and Goal\n",
    "There's nothing more annoying than having your Spotify listening session interrupted by a song you just don't really like. I've recently found myself pressing the \"next\" button on Spotify quiet often. That's why I thought to myself, \"There has to be a better way.\" The idea for this project emerged: *Can I use my Spotify listening data to build a machine learning model that predicts whether I'm going to skip a song*.\n",
    "\n",
    "Initially, I wanted to use Spotify's API to pull in audio analysis features for every single song (things like danceability, acousticness, energy, valence, and more). I thought these would be strong predictors. However, it turned out that in the beginning of 2025, Spotify disabled public access to that specific API endpoint.\n",
    "\n",
    "I had to adapt and the challenge question changed to: *How accurately can I predict my Spotify skipping behavior using only the contextual data from my extended streaming history and the basic track metadata that's still available?*"
   ]
  },
  {
   "cell_type": "markdown",
   "id": "a02bd063",
   "metadata": {},
   "source": [
    "## Data\n",
    "I got my personal data archive by requesting my \"Extended streaming history\" from Spotify through my account's privacy page. A few days later, Spotify sent me a link to download a package containing several `.json` files that contain information about every song I've listened to since I created the account.\n",
    "\n",
    "The `.json` files contain lists of events, where each event is a JSON object with detailed information about what I was listening to and when. Here is a sample event of a JSON file from 2024:\n",
    "\n",
    "```json\n",
    "{\n",
    "\"ts\": \"2024-07-11T15:32:45Z\",\n",
    "\"platform\": \"ios\",\n",
    "\"ms_played\": 18333,\n",
    "\"conn_country\": \"LV\",\n",
    "\"master_metadata_track_name\": \"Saturn\",\n",
    "\"master_metadata_album_artist_name\": \"SZA\",\n",
    "\"master_metadata_album_album_name\": \"Saturn\",\n",
    "\"spotify_track_uri\": \"spotify:track:1bjeWoagtHmUKputLVyDxQ\",\n",
    "\"episode_name\": null,\n",
    "\"episode_show_name\": null,\n",
    "\"spotify_episode_uri\": null,\n",
    "\"audiobook_title\": null,\n",
    "\"audiobook_uri\": null,\n",
    "\"audiobook_chapter_uri\": null,\n",
    "\"audiobook_chapter_title\": null,\n",
    "\"reason_start\": \"trackdone\",\n",
    "\"reason_end\": \"fwdbtn\",\n",
    "\"shuffle\": true,\n",
    "\"skipped\": true,\n",
    "\"offline\": false,\n",
    "\"offline_timestamp\": 1720711945,\n",
    "\"incognito_mode\": false\n",
    "}\n",
    "```\n",
    "\n",
    "This event tells me that on July 11th, 2024, at 15:32:45 (UTC), I played SZA's *Saturn* from her *Saturn* album for 18333 milliseconds (18.333 seconds) until I skipped it. I played the song *online* on an iPhone somewhere in Latvia, having \"shuffle\" on. The reason I had *Saturn* playing is because the previous track had been finished playing. The reason I stopped it is because I clicked on the \"forward\" button. \n",
    "\n",
    "**Note:** Other values are less important in describing the sample event, but if you're interested in what each of them means, you should read the `JSON Value Meanings.pdf` file in the `data` folder of this project. Notice how there are three types of events in these files: songs, podcasts, and audiobooks, but for this project I focus only on songs.\n",
    "\n",
    "**Another Note:** The `.json` files initially included an `ip_addr` key, but I removed them from all events to protect personal information."
   ]
  },
  {
   "cell_type": "markdown",
   "id": "0c256ff9",
   "metadata": {},
   "source": [
    "## Converting Data Into Python Readable Format\n",
    "\n",
    "To get a working DataFrame, I first consolidate all of the `.json` files into one dataset. In the following code cell, I iterate through the `data` folder, open each `.json` file, and extract every event into a single list. Each entry also receives an additional column called `source_file`, which records the name of the file it came from to make it easier to track potential data issues later. \n",
    "\n",
    "When all events are collected, I convert the list into a Pandas DataFrame called `merged_data`, which will allow me to perform all cleaning, filtering, and feature engineering operations in a unified way."
   ]
  },
  {
   "cell_type": "code",
   "execution_count": null,
   "id": "16d757a3",
   "metadata": {},
   "outputs": [],
   "source": [
    "# Load neccesarry libraries\n",
    "import os\n",
    "import json\n",
    "import pandas as pd\n",
    "\n",
    "# Define the path to the folder that stores all Spotify JSON history files\n",
    "history_folder = os.path.join(os.getcwd(), \"data\")\n",
    "\n",
    "# Initialize an empty list that will store all playback events from all files\n",
    "all_entries = []\n",
    "\n",
    "# Loop through every file in the 'data' directory\n",
    "for filename in os.listdir(history_folder):\n",
    "    file_path = os.path.join(history_folder, filename)\n",
    "\n",
    "    # Process only JSON files\n",
    "    if os.path.isfile(file_path) and filename.endswith('.json'):\n",
    "        with open(file_path, 'r') as f:\n",
    "            data = json.load(f)\n",
    "            if isinstance(data, list):\n",
    "                # Add a 'source_file' column to keep track of where each event came from\n",
    "                for entry in data:\n",
    "                    entry[\"source_file\"] = filename\n",
    "                \n",
    "                # Extend the master list with all events from this file\n",
    "                all_entries.extend(data)\n",
    "\n",
    "\n",
    "# Convert and export the combined list of all events into a Pandas DataFrame\n",
    "merged_data = pd.DataFrame(all_entries)\n",
    "merged_data.to_csv(\"data/raw.csv\", index=False)"
   ]
  },
  {
   "cell_type": "markdown",
   "id": "90b03d70",
   "metadata": {},
   "source": [
    "After merging the `.json` files, I export the resulting DataFrame as `raw.csv` in the `data` folder. \n",
    "\n",
    "At some point of looking into the history files, I realized that the song events don't include information about when the song was released, which I thought could be meaningful because I tend to like newer songs more. Therefore, I initialized a Spotify API client through the `spotipy` library with credentials stored securely as environment variables (see the `fetch_data.py` file for details). The script collects all unique track URIs from the raw data, retrieves their album release dates, and maps the dates back into the main DataFrame. I saved the enriched dataset as `raw_w_release.csv`. \n",
    "\n",
    "Now that the song release dates have been added, I load the enriched dataset from `raw_w_release.csv` into a Pandas DataFrame called `history_data`. All subsequent steps in the notebook will be based on this dataset."
   ]
  },
  {
   "cell_type": "code",
   "execution_count": 35,
   "id": "b1e78a61",
   "metadata": {},
   "outputs": [
    {
     "data": {
      "text/html": [
       "<div>\n",
       "<style scoped>\n",
       "    .dataframe tbody tr th:only-of-type {\n",
       "        vertical-align: middle;\n",
       "    }\n",
       "\n",
       "    .dataframe tbody tr th {\n",
       "        vertical-align: top;\n",
       "    }\n",
       "\n",
       "    .dataframe thead th {\n",
       "        text-align: right;\n",
       "    }\n",
       "</style>\n",
       "<table border=\"1\" class=\"dataframe\">\n",
       "  <thead>\n",
       "    <tr style=\"text-align: right;\">\n",
       "      <th></th>\n",
       "      <th>ts</th>\n",
       "      <th>platform</th>\n",
       "      <th>ms_played</th>\n",
       "      <th>conn_country</th>\n",
       "      <th>ip_addr</th>\n",
       "      <th>master_metadata_track_name</th>\n",
       "      <th>master_metadata_album_artist_name</th>\n",
       "      <th>master_metadata_album_album_name</th>\n",
       "      <th>spotify_track_uri</th>\n",
       "      <th>episode_name</th>\n",
       "      <th>...</th>\n",
       "      <th>audiobook_chapter_title</th>\n",
       "      <th>reason_start</th>\n",
       "      <th>reason_end</th>\n",
       "      <th>shuffle</th>\n",
       "      <th>skipped</th>\n",
       "      <th>offline</th>\n",
       "      <th>offline_timestamp</th>\n",
       "      <th>incognito_mode</th>\n",
       "      <th>source_file</th>\n",
       "      <th>release_date</th>\n",
       "    </tr>\n",
       "  </thead>\n",
       "  <tbody>\n",
       "    <tr>\n",
       "      <th>0</th>\n",
       "      <td>2017-06-20T15:37:00Z</td>\n",
       "      <td>iOS 10.3.1 (iPhone6,2)</td>\n",
       "      <td>7383</td>\n",
       "      <td>LV</td>\n",
       "      <td>87.110.247.18</td>\n",
       "      <td>Hit This Hard</td>\n",
       "      <td>Post Malone</td>\n",
       "      <td>Stoney</td>\n",
       "      <td>spotify:track:7a2c8KeQi3LhImYQepp4Yg</td>\n",
       "      <td>NaN</td>\n",
       "      <td>...</td>\n",
       "      <td>NaN</td>\n",
       "      <td>playbtn</td>\n",
       "      <td>fwdbtn</td>\n",
       "      <td>True</td>\n",
       "      <td>False</td>\n",
       "      <td>False</td>\n",
       "      <td>NaN</td>\n",
       "      <td>False</td>\n",
       "      <td>2017_2020.json</td>\n",
       "      <td>2016-12-09</td>\n",
       "    </tr>\n",
       "    <tr>\n",
       "      <th>1</th>\n",
       "      <td>2017-06-20T15:37:08Z</td>\n",
       "      <td>iOS 10.3.1 (iPhone6,2)</td>\n",
       "      <td>7198</td>\n",
       "      <td>LV</td>\n",
       "      <td>87.110.247.18</td>\n",
       "      <td>White Iverson</td>\n",
       "      <td>Post Malone</td>\n",
       "      <td>Stoney</td>\n",
       "      <td>spotify:track:1Bi5t0q9j3nYXIZuZgSGvr</td>\n",
       "      <td>NaN</td>\n",
       "      <td>...</td>\n",
       "      <td>NaN</td>\n",
       "      <td>fwdbtn</td>\n",
       "      <td>fwdbtn</td>\n",
       "      <td>True</td>\n",
       "      <td>False</td>\n",
       "      <td>False</td>\n",
       "      <td>NaN</td>\n",
       "      <td>False</td>\n",
       "      <td>2017_2020.json</td>\n",
       "      <td>2016-12-09</td>\n",
       "    </tr>\n",
       "    <tr>\n",
       "      <th>2</th>\n",
       "      <td>2017-06-20T15:37:08Z</td>\n",
       "      <td>iOS 10.3.1 (iPhone6,2)</td>\n",
       "      <td>534</td>\n",
       "      <td>LV</td>\n",
       "      <td>87.110.247.18</td>\n",
       "      <td>Too Young</td>\n",
       "      <td>Post Malone</td>\n",
       "      <td>Stoney</td>\n",
       "      <td>spotify:track:5pWAuRZyAC3HIf36GfRcbz</td>\n",
       "      <td>NaN</td>\n",
       "      <td>...</td>\n",
       "      <td>NaN</td>\n",
       "      <td>fwdbtn</td>\n",
       "      <td>fwdbtn</td>\n",
       "      <td>True</td>\n",
       "      <td>False</td>\n",
       "      <td>False</td>\n",
       "      <td>NaN</td>\n",
       "      <td>False</td>\n",
       "      <td>2017_2020.json</td>\n",
       "      <td>2016-12-09</td>\n",
       "    </tr>\n",
       "    <tr>\n",
       "      <th>3</th>\n",
       "      <td>2017-06-20T15:37:09Z</td>\n",
       "      <td>iOS 10.3.1 (iPhone6,2)</td>\n",
       "      <td>255</td>\n",
       "      <td>LV</td>\n",
       "      <td>87.110.247.18</td>\n",
       "      <td>Bad and Boujee (feat. Lil Uzi Vert)</td>\n",
       "      <td>Migos</td>\n",
       "      <td>Culture</td>\n",
       "      <td>spotify:track:4Km5HrUvYTaSUfiSGPJeQR</td>\n",
       "      <td>NaN</td>\n",
       "      <td>...</td>\n",
       "      <td>NaN</td>\n",
       "      <td>fwdbtn</td>\n",
       "      <td>fwdbtn</td>\n",
       "      <td>True</td>\n",
       "      <td>False</td>\n",
       "      <td>False</td>\n",
       "      <td>NaN</td>\n",
       "      <td>False</td>\n",
       "      <td>2017_2020.json</td>\n",
       "      <td>2017-04-07</td>\n",
       "    </tr>\n",
       "    <tr>\n",
       "      <th>4</th>\n",
       "      <td>2017-06-20T15:37:13Z</td>\n",
       "      <td>iOS 10.3.1 (iPhone6,2)</td>\n",
       "      <td>3947</td>\n",
       "      <td>LV</td>\n",
       "      <td>87.110.247.18</td>\n",
       "      <td>Congratulations</td>\n",
       "      <td>Post Malone</td>\n",
       "      <td>Stoney</td>\n",
       "      <td>spotify:track:6syOdAs4IK8kPWR7gDyjRw</td>\n",
       "      <td>NaN</td>\n",
       "      <td>...</td>\n",
       "      <td>NaN</td>\n",
       "      <td>fwdbtn</td>\n",
       "      <td>fwdbtn</td>\n",
       "      <td>True</td>\n",
       "      <td>False</td>\n",
       "      <td>False</td>\n",
       "      <td>NaN</td>\n",
       "      <td>False</td>\n",
       "      <td>2017_2020.json</td>\n",
       "      <td>2016-12-09</td>\n",
       "    </tr>\n",
       "    <tr>\n",
       "      <th>...</th>\n",
       "      <td>...</td>\n",
       "      <td>...</td>\n",
       "      <td>...</td>\n",
       "      <td>...</td>\n",
       "      <td>...</td>\n",
       "      <td>...</td>\n",
       "      <td>...</td>\n",
       "      <td>...</td>\n",
       "      <td>...</td>\n",
       "      <td>...</td>\n",
       "      <td>...</td>\n",
       "      <td>...</td>\n",
       "      <td>...</td>\n",
       "      <td>...</td>\n",
       "      <td>...</td>\n",
       "      <td>...</td>\n",
       "      <td>...</td>\n",
       "      <td>...</td>\n",
       "      <td>...</td>\n",
       "      <td>...</td>\n",
       "      <td>...</td>\n",
       "    </tr>\n",
       "    <tr>\n",
       "      <th>87352</th>\n",
       "      <td>2024-07-02T08:41:40Z</td>\n",
       "      <td>ios</td>\n",
       "      <td>1080</td>\n",
       "      <td>LV</td>\n",
       "      <td>2a03:ec00:b15c:64ca:4914:3fec:d98b:fa48</td>\n",
       "      <td>Illusion</td>\n",
       "      <td>Dua Lipa</td>\n",
       "      <td>Radical Optimism</td>\n",
       "      <td>spotify:track:5q0EXnBYyeCdXD72FzJxH0</td>\n",
       "      <td>NaN</td>\n",
       "      <td>...</td>\n",
       "      <td>NaN</td>\n",
       "      <td>fwdbtn</td>\n",
       "      <td>fwdbtn</td>\n",
       "      <td>True</td>\n",
       "      <td>True</td>\n",
       "      <td>False</td>\n",
       "      <td>1.719910e+09</td>\n",
       "      <td>False</td>\n",
       "      <td>2023_2024.json</td>\n",
       "      <td>2024-05-03</td>\n",
       "    </tr>\n",
       "    <tr>\n",
       "      <th>87353</th>\n",
       "      <td>2024-07-02T08:41:41Z</td>\n",
       "      <td>ios</td>\n",
       "      <td>1800</td>\n",
       "      <td>LV</td>\n",
       "      <td>2a03:ec00:b15c:64ca:4914:3fec:d98b:fa48</td>\n",
       "      <td>Lose Control</td>\n",
       "      <td>Teddy Swims</td>\n",
       "      <td>Lose Control</td>\n",
       "      <td>spotify:track:6usohdchdzW9oML7VC4Uhk</td>\n",
       "      <td>NaN</td>\n",
       "      <td>...</td>\n",
       "      <td>NaN</td>\n",
       "      <td>fwdbtn</td>\n",
       "      <td>fwdbtn</td>\n",
       "      <td>True</td>\n",
       "      <td>True</td>\n",
       "      <td>False</td>\n",
       "      <td>1.719910e+09</td>\n",
       "      <td>False</td>\n",
       "      <td>2023_2024.json</td>\n",
       "      <td>2023-06-23</td>\n",
       "    </tr>\n",
       "    <tr>\n",
       "      <th>87354</th>\n",
       "      <td>2024-07-02T08:41:43Z</td>\n",
       "      <td>ios</td>\n",
       "      <td>1500</td>\n",
       "      <td>LV</td>\n",
       "      <td>2a03:ec00:b15c:64ca:4914:3fec:d98b:fa48</td>\n",
       "      <td>I Feel It Coming</td>\n",
       "      <td>The Weeknd</td>\n",
       "      <td>Starboy</td>\n",
       "      <td>spotify:track:5GXAXm5YOmYT0kL5jHvYBt</td>\n",
       "      <td>NaN</td>\n",
       "      <td>...</td>\n",
       "      <td>NaN</td>\n",
       "      <td>fwdbtn</td>\n",
       "      <td>fwdbtn</td>\n",
       "      <td>True</td>\n",
       "      <td>True</td>\n",
       "      <td>False</td>\n",
       "      <td>1.719910e+09</td>\n",
       "      <td>False</td>\n",
       "      <td>2023_2024.json</td>\n",
       "      <td>2016-11-24</td>\n",
       "    </tr>\n",
       "    <tr>\n",
       "      <th>87355</th>\n",
       "      <td>2024-07-02T08:44:37Z</td>\n",
       "      <td>ios</td>\n",
       "      <td>175459</td>\n",
       "      <td>LV</td>\n",
       "      <td>2a03:ec00:b15c:64ca:4914:3fec:d98b:fa48</td>\n",
       "      <td>Espresso</td>\n",
       "      <td>Sabrina Carpenter</td>\n",
       "      <td>Espresso</td>\n",
       "      <td>spotify:track:2qSkIjg1o9h3YT9RAgYN75</td>\n",
       "      <td>NaN</td>\n",
       "      <td>...</td>\n",
       "      <td>NaN</td>\n",
       "      <td>fwdbtn</td>\n",
       "      <td>trackdone</td>\n",
       "      <td>True</td>\n",
       "      <td>False</td>\n",
       "      <td>False</td>\n",
       "      <td>1.719910e+09</td>\n",
       "      <td>False</td>\n",
       "      <td>2023_2024.json</td>\n",
       "      <td>2024-04-12</td>\n",
       "    </tr>\n",
       "    <tr>\n",
       "      <th>87356</th>\n",
       "      <td>2024-07-02T08:47:53Z</td>\n",
       "      <td>ios</td>\n",
       "      <td>203880</td>\n",
       "      <td>LV</td>\n",
       "      <td>2a03:ec00:b15c:64ca:4914:3fec:d98b:fa48</td>\n",
       "      <td>Cold Treats</td>\n",
       "      <td>Bare Jams</td>\n",
       "      <td>Cold Treats</td>\n",
       "      <td>spotify:track:1TmwtwLrZuOSAxmslxzEfF</td>\n",
       "      <td>NaN</td>\n",
       "      <td>...</td>\n",
       "      <td>NaN</td>\n",
       "      <td>trackdone</td>\n",
       "      <td>trackdone</td>\n",
       "      <td>True</td>\n",
       "      <td>False</td>\n",
       "      <td>False</td>\n",
       "      <td>1.719910e+09</td>\n",
       "      <td>False</td>\n",
       "      <td>2023_2024.json</td>\n",
       "      <td>2015-12-11</td>\n",
       "    </tr>\n",
       "  </tbody>\n",
       "</table>\n",
       "<p>87357 rows × 25 columns</p>\n",
       "</div>"
      ],
      "text/plain": [
       "                         ts                platform  ms_played conn_country  \\\n",
       "0      2017-06-20T15:37:00Z  iOS 10.3.1 (iPhone6,2)       7383           LV   \n",
       "1      2017-06-20T15:37:08Z  iOS 10.3.1 (iPhone6,2)       7198           LV   \n",
       "2      2017-06-20T15:37:08Z  iOS 10.3.1 (iPhone6,2)        534           LV   \n",
       "3      2017-06-20T15:37:09Z  iOS 10.3.1 (iPhone6,2)        255           LV   \n",
       "4      2017-06-20T15:37:13Z  iOS 10.3.1 (iPhone6,2)       3947           LV   \n",
       "...                     ...                     ...        ...          ...   \n",
       "87352  2024-07-02T08:41:40Z                     ios       1080           LV   \n",
       "87353  2024-07-02T08:41:41Z                     ios       1800           LV   \n",
       "87354  2024-07-02T08:41:43Z                     ios       1500           LV   \n",
       "87355  2024-07-02T08:44:37Z                     ios     175459           LV   \n",
       "87356  2024-07-02T08:47:53Z                     ios     203880           LV   \n",
       "\n",
       "                                       ip_addr  \\\n",
       "0                                87.110.247.18   \n",
       "1                                87.110.247.18   \n",
       "2                                87.110.247.18   \n",
       "3                                87.110.247.18   \n",
       "4                                87.110.247.18   \n",
       "...                                        ...   \n",
       "87352  2a03:ec00:b15c:64ca:4914:3fec:d98b:fa48   \n",
       "87353  2a03:ec00:b15c:64ca:4914:3fec:d98b:fa48   \n",
       "87354  2a03:ec00:b15c:64ca:4914:3fec:d98b:fa48   \n",
       "87355  2a03:ec00:b15c:64ca:4914:3fec:d98b:fa48   \n",
       "87356  2a03:ec00:b15c:64ca:4914:3fec:d98b:fa48   \n",
       "\n",
       "                master_metadata_track_name master_metadata_album_artist_name  \\\n",
       "0                            Hit This Hard                       Post Malone   \n",
       "1                            White Iverson                       Post Malone   \n",
       "2                                Too Young                       Post Malone   \n",
       "3      Bad and Boujee (feat. Lil Uzi Vert)                             Migos   \n",
       "4                          Congratulations                       Post Malone   \n",
       "...                                    ...                               ...   \n",
       "87352                             Illusion                          Dua Lipa   \n",
       "87353                         Lose Control                       Teddy Swims   \n",
       "87354                     I Feel It Coming                        The Weeknd   \n",
       "87355                             Espresso                 Sabrina Carpenter   \n",
       "87356                          Cold Treats                         Bare Jams   \n",
       "\n",
       "      master_metadata_album_album_name                     spotify_track_uri  \\\n",
       "0                               Stoney  spotify:track:7a2c8KeQi3LhImYQepp4Yg   \n",
       "1                               Stoney  spotify:track:1Bi5t0q9j3nYXIZuZgSGvr   \n",
       "2                               Stoney  spotify:track:5pWAuRZyAC3HIf36GfRcbz   \n",
       "3                              Culture  spotify:track:4Km5HrUvYTaSUfiSGPJeQR   \n",
       "4                               Stoney  spotify:track:6syOdAs4IK8kPWR7gDyjRw   \n",
       "...                                ...                                   ...   \n",
       "87352                 Radical Optimism  spotify:track:5q0EXnBYyeCdXD72FzJxH0   \n",
       "87353                     Lose Control  spotify:track:6usohdchdzW9oML7VC4Uhk   \n",
       "87354                          Starboy  spotify:track:5GXAXm5YOmYT0kL5jHvYBt   \n",
       "87355                         Espresso  spotify:track:2qSkIjg1o9h3YT9RAgYN75   \n",
       "87356                      Cold Treats  spotify:track:1TmwtwLrZuOSAxmslxzEfF   \n",
       "\n",
       "      episode_name  ... audiobook_chapter_title reason_start reason_end  \\\n",
       "0              NaN  ...                     NaN      playbtn     fwdbtn   \n",
       "1              NaN  ...                     NaN       fwdbtn     fwdbtn   \n",
       "2              NaN  ...                     NaN       fwdbtn     fwdbtn   \n",
       "3              NaN  ...                     NaN       fwdbtn     fwdbtn   \n",
       "4              NaN  ...                     NaN       fwdbtn     fwdbtn   \n",
       "...            ...  ...                     ...          ...        ...   \n",
       "87352          NaN  ...                     NaN       fwdbtn     fwdbtn   \n",
       "87353          NaN  ...                     NaN       fwdbtn     fwdbtn   \n",
       "87354          NaN  ...                     NaN       fwdbtn     fwdbtn   \n",
       "87355          NaN  ...                     NaN       fwdbtn  trackdone   \n",
       "87356          NaN  ...                     NaN    trackdone  trackdone   \n",
       "\n",
       "      shuffle skipped offline offline_timestamp incognito_mode  \\\n",
       "0        True   False   False               NaN          False   \n",
       "1        True   False   False               NaN          False   \n",
       "2        True   False   False               NaN          False   \n",
       "3        True   False   False               NaN          False   \n",
       "4        True   False   False               NaN          False   \n",
       "...       ...     ...     ...               ...            ...   \n",
       "87352    True    True   False      1.719910e+09          False   \n",
       "87353    True    True   False      1.719910e+09          False   \n",
       "87354    True    True   False      1.719910e+09          False   \n",
       "87355    True   False   False      1.719910e+09          False   \n",
       "87356    True   False   False      1.719910e+09          False   \n",
       "\n",
       "          source_file  release_date  \n",
       "0      2017_2020.json    2016-12-09  \n",
       "1      2017_2020.json    2016-12-09  \n",
       "2      2017_2020.json    2016-12-09  \n",
       "3      2017_2020.json    2017-04-07  \n",
       "4      2017_2020.json    2016-12-09  \n",
       "...               ...           ...  \n",
       "87352  2023_2024.json    2024-05-03  \n",
       "87353  2023_2024.json    2023-06-23  \n",
       "87354  2023_2024.json    2016-11-24  \n",
       "87355  2023_2024.json    2024-04-12  \n",
       "87356  2023_2024.json    2015-12-11  \n",
       "\n",
       "[87357 rows x 25 columns]"
      ]
     },
     "execution_count": 35,
     "metadata": {},
     "output_type": "execute_result"
    }
   ],
   "source": [
    "# Load and visualize the enriched raw_w_release.csv dataset\n",
    "history_data = pd.read_csv(\"data/raw_w_release.csv\", low_memory=False)\n",
    "history_data"
   ]
  },
  {
   "cell_type": "markdown",
   "id": "b96b7913",
   "metadata": {},
   "source": [
    "The enriched dataset contains 87,357 rows and 25 columns, where each row represents a listening event and each columns is a feature explaining my listening behavior and metadata of the event."
   ]
  },
  {
   "cell_type": "markdown",
   "id": "3a2b38bf",
   "metadata": {},
   "source": [
    "## Data Cleaning and Pre-processing\n",
    "\n",
    "I now move to cleaning the dataset. The first step is addressing potential duplicate events, which can occur when Spotify logs the same playback multiple times due to syncing issues or network interruptions. I begin by identifying and removing all duplicate rows to ensure that each listening event is unique."
   ]
  },
  {
   "cell_type": "code",
   "execution_count": null,
   "id": "df948cb0",
   "metadata": {},
   "outputs": [
    {
     "name": "stdout",
     "output_type": "stream",
     "text": [
      "95 total duplicate entries found.\n",
      "47 total unique duplicate groups found.\n"
     ]
    }
   ],
   "source": [
    "# Duplicates\n",
    "duplicates = history_data[history_data.duplicated(keep=False)]\n",
    "unique_duplicates = duplicates.drop_duplicates()\n",
    "\n",
    "# Total number of duplicates and total number of unique duplicate group\n",
    "print(f\"{len(duplicates)} total duplicate entries found.\")\n",
    "print(f\"{len(unique_duplicates)} total unique duplicate groups found.\")"
   ]
  },
  {
   "cell_type": "markdown",
   "id": "412e23a2",
   "metadata": {},
   "source": [
    "The output shows that there are 95 total duplicate entries, grouped into 47 unique sets of repeated events.\n",
    "\n",
    "I then verify that the number of rows dropped matches the number of duplicates detected before permanently removing them from the dataset."
   ]
  },
  {
   "cell_type": "code",
   "execution_count": 37,
   "id": "0b2e2d52",
   "metadata": {},
   "outputs": [],
   "source": [
    "# Check dropping is correct and drop duplicates\n",
    "assert(len(history_data.drop_duplicates()) == len(history_data) - len(duplicates) + len(unique_duplicates))\n",
    "history_data = history_data.drop_duplicates()"
   ]
  },
  {
   "cell_type": "markdown",
   "id": "2e10672d",
   "metadata": {},
   "source": [
    "After removing duplicates, I examine the dataset for missing values."
   ]
  },
  {
   "cell_type": "code",
   "execution_count": null,
   "id": "9e8d30ab",
   "metadata": {},
   "outputs": [
    {
     "data": {
      "text/plain": [
       "ts                                       0\n",
       "platform                                 0\n",
       "ms_played                                0\n",
       "conn_country                             0\n",
       "ip_addr                                  0\n",
       "master_metadata_track_name             372\n",
       "master_metadata_album_artist_name      372\n",
       "master_metadata_album_album_name       372\n",
       "spotify_track_uri                      372\n",
       "episode_name                         86943\n",
       "episode_show_name                    86943\n",
       "spotify_episode_uri                  86943\n",
       "audiobook_title                      87303\n",
       "audiobook_uri                        87303\n",
       "audiobook_chapter_uri                87303\n",
       "audiobook_chapter_title              87303\n",
       "reason_start                             0\n",
       "reason_end                               0\n",
       "shuffle                                  0\n",
       "skipped                                  0\n",
       "offline                                  0\n",
       "offline_timestamp                    26373\n",
       "incognito_mode                           0\n",
       "source_file                              0\n",
       "release_date                           372\n",
       "dtype: int64"
      ]
     },
     "execution_count": 38,
     "metadata": {},
     "output_type": "execute_result"
    }
   ],
   "source": [
    "# Print sum of missing value of each feature\n",
    "history_data.isna().sum()"
   ]
  },
  {
   "cell_type": "markdown",
   "id": "420dd5a7",
   "metadata": {},
   "source": [
    "We can observe that most missing entries correspond to non-song content (podcasts and audiobooks), which lack feature values like `master_metadata_track_name`, `master_metadata_album_artist_name`, `master_metadata_album_album_name`, and `release_date`. Since my project focuses on songs, I remove these rows from the dataset.\n",
    "\n",
    "In the next code cell, I confirm that only 372 non-song rows are removed before removing them permanently. "
   ]
  },
  {
   "cell_type": "code",
   "execution_count": 39,
   "id": "79656f62",
   "metadata": {},
   "outputs": [],
   "source": [
    "# Check that we drop only 372 non-song entries and drop them\n",
    "assert(len(history_data) - len(history_data.dropna(subset=[\"master_metadata_track_name\"])) == 372)\n",
    "history_data = history_data.dropna(subset=[\"master_metadata_track_name\"])"
   ]
  },
  {
   "cell_type": "markdown",
   "id": "7c48dcd8",
   "metadata": {},
   "source": [
    "Because I think that my music style experienced significant changes around the Covid-19 pandemic, I restrict the dataset to events that occurred after January 1st, 2020 by removing such entries."
   ]
  },
  {
   "cell_type": "code",
   "execution_count": 40,
   "id": "303d4328",
   "metadata": {},
   "outputs": [],
   "source": [
    "# Filter for timestamps after 2020-01-01\n",
    "history_data = history_data[history_data[\"ts\"] >= \"2020-01-01\"]"
   ]
  },
  {
   "cell_type": "markdown",
   "id": "2da906f5",
   "metadata": {},
   "source": [
    "Finally, I rename some columns to make them more descriptive."
   ]
  },
  {
   "cell_type": "code",
   "execution_count": 41,
   "id": "f17ffff9",
   "metadata": {},
   "outputs": [],
   "source": [
    "# Renaming columns\n",
    "rename_columns = {\n",
    "    \"ts\": \"timestamp\",\n",
    "    \"conn_country\": \"country\",\n",
    "    \"master_metadata_track_name\": \"song_name\",\n",
    "    \"master_metadata_album_artist_name\": \"artist_name\",\n",
    "    \"master_metadata_album_album_name\": \"album_name\",\n",
    "    \"spotify_track_uri\": \"song_uri\"}\n",
    "\n",
    "history_data = history_data.rename(columns=rename_columns)\n"
   ]
  },
  {
   "cell_type": "markdown",
   "id": "6e84160f",
   "metadata": {},
   "source": [
    "## Feature Engineering"
   ]
  },
  {
   "cell_type": "markdown",
   "id": "93d79a7d",
   "metadata": {},
   "source": [
    "With the dataset cleaned and properly structured, the next step is to create new features that better capture the context of each listening event, which will later help the machine learning model understand patterns and learn how to predict whether a song is skipped.\n",
    "\n",
    "I first sort all events chronologically by timestamp, which will become important in the following code cells."
   ]
  },
  {
   "cell_type": "code",
   "execution_count": 42,
   "id": "7ace8531",
   "metadata": {},
   "outputs": [],
   "source": [
    "# Sort DataFrame by timestamp\n",
    "history_data = history_data.sort_values(\"timestamp\")"
   ]
  },
  {
   "cell_type": "markdown",
   "id": "a503abae",
   "metadata": {},
   "source": [
    "The first features I decided to add were the time of day when I listened to each song and whether the playback occurred on a weekend or a weekday. To create the `time_of_day` and `weekend` features, I first localize the timestamps because I know that after January 1st, 2020 I listened to Spotify in different parts of the world. \n",
    "\n",
    "Let’s start by examining which countries are present in the dataset, using the `country` column."
   ]
  },
  {
   "cell_type": "code",
   "execution_count": null,
   "id": "f5aa5de7",
   "metadata": {},
   "outputs": [
    {
     "data": {
      "text/plain": [
       "country\n",
       "LV    47201\n",
       "US    15218\n",
       "KR     5675\n",
       "TW     5009\n",
       "UY     1669\n",
       "AR     1269\n",
       "JP      142\n",
       "UZ      124\n",
       "AE      110\n",
       "IT       81\n",
       "TR       29\n",
       "ZZ       19\n",
       "SE        4\n",
       "NL        3\n",
       "Name: count, dtype: int64"
      ]
     },
     "execution_count": 43,
     "metadata": {},
     "output_type": "execute_result"
    }
   ],
   "source": [
    "# Look at country names available in the dataset\n",
    "history_data[\"country\"].value_counts()"
   ]
  },
  {
   "cell_type": "markdown",
   "id": "555aceca",
   "metadata": {},
   "source": [
    "Some entries have value “ZZ,” representing an unknown or invalid location; I remove these to preserve consistency. Then, I map the country codes to their corresponding timezones and create localized timestamps (`local_datetime`). I extract the local hour of each listening event for the `time_of_day` to apply the following logic to each entry.\n",
    "\n",
    "* 5 AM to 11:59 AM: `morning` \n",
    "* 12 PM to 4:59 PM: `afternoon`\n",
    "* 5 PM to 8:59 PM: `evening`\n",
    "* 9 PM to 4:59 AM: `night`\n",
    "\n",
    "Similarly, I extract the local day for the `weekend` column and apply the following logic to each entry:\n",
    "\n",
    "* `True` if Friday, Saturday, or Sunday\n",
    "* `False`, otherwise"
   ]
  },
  {
   "cell_type": "code",
   "execution_count": null,
   "id": "8d6c0b7f",
   "metadata": {},
   "outputs": [],
   "source": [
    "# Remove entries with country code \"ZZ\"\n",
    "history_data = history_data[history_data[\"country\"] != \"ZZ\"]\n",
    "\n",
    "# Convert timestamp to datetime\n",
    "history_data[\"timestamp\"] = pd.to_datetime(history_data[\"timestamp\"], utc=True)\n",
    "\n",
    "# Mapping from country codes to timezones\n",
    "country_to_timezone = {\n",
    "    \"LV\": \"Europe/Riga\",\n",
    "    \"US\": \"America/Los_Angeles\",\n",
    "    \"KR\": \"Asia/Seoul\",\n",
    "    \"TW\": \"Asia/Taipei\",\n",
    "    \"UY\": \"America/Montevideo\",\n",
    "    \"AR\": \"America/Argentina/Buenos_Aires\",\n",
    "    \"JP\": \"Asia/Tokyo\",\n",
    "    \"UZ\": \"Asia/Tashkent\",\n",
    "    \"AE\": \"Asia/Dubai\",\n",
    "    \"IT\": \"Europe/Rome\",\n",
    "    \"TR\": \"Europe/Istanbul\",\n",
    "    \"SE\": \"Europe/Stockholm\",\n",
    "    \"NL\": \"Europe/Amsterdam\"\n",
    "}\n",
    "\n",
    "# Create a vectorized timezone conversion\n",
    "history_data[\"timezone\"] = history_data[\"country\"].map(country_to_timezone)\n",
    "\n",
    "# Create a \"local_datetime\" column using the mapped timezones\n",
    "history_data[\"local_datetime\"] = history_data.apply(\n",
    "    lambda row: row[\"timestamp\"].tz_convert(row[\"timezone\"]),\n",
    "    axis=1\n",
    ")\n",
    "\n",
    "# Create a \"local_hour\" column\n",
    "history_data[\"local_hour\"] = history_data[\"local_datetime\"].apply(lambda dt: dt.hour)\n",
    "\n",
    "# Map hour to time of day\n",
    "def time_of_day(hour):\n",
    "    if 5 <= hour < 12:\n",
    "        return \"morning\"\n",
    "    elif 12 <= hour < 17:\n",
    "        return \"afternoon\"\n",
    "    elif 17 <= hour < 21:\n",
    "        return \"evening\"\n",
    "    else:\n",
    "        return \"night\"\n",
    "\n",
    "history_data[\"time_of_day\"] = history_data[\"local_hour\"].apply(time_of_day)\n",
    "\n",
    "# Create a \"is_weekend\" column\n",
    "history_data[\"weekend\"] = history_data[\"local_datetime\"].apply(\n",
    "    lambda dt: True if dt.dayofweek >= 5 else False\n",
    ")"
   ]
  },
  {
   "cell_type": "markdown",
   "id": "86bd7759",
   "metadata": {},
   "source": [
    "Next, I redefine the `skipped` feature because the original Spotify definition is unclear. It may simply indicate that I changed the song, which doesn't distinguish between listening to 1% or 99% of a song. Intuitively, skipping a song after hearing most of it represents a very positive preference, compared to skipping it immediately. Thus, I define a song as `skipped` if it is played for less than 30 seconds, which corresponds roughly to 15–20% of an average song on Spotify. Plays longer than this threshold are assumed to indicate that I like the song.\n",
    "\n",
    "Similarly, I create the following features:\n",
    "\n",
    "* `track_play_count`: Counts how many times each song has been played up to the current event. I tend to start disliking songs that I've heard too many times. \n",
    "* `artist_popularity`: Measures how frequently each artist appears in the dataset, calculated as the normalized play count of their songs. I generally like songs from artists whose music I listen to. Makes sense, right?\n",
    "* `seconds_since_last_play`: Computes the time elapsed between consecutive plays of the same song. For the first occurrence of a song, the value is set to -1 to avoid missing values. If I just heard a song, I'm likely to skip it.\n",
    "* `repeat_artist`: A boolean indicating whether the current song is by the same artist as the previous song. Sometimes I listen to the same artist over and over. \n",
    "* `device`: Groups raw platform strings into three categories: phone, laptop, and other. I think I'm more likely to skip a song when I'm listening to Spotify on my phone because playing songs on my computer correlates with my studying times. When I'm studying, I don't really care what's in the background. Thus, the skipping rate might be lower.\n",
    "* `song_age_days`: Measures the age of the song at the time of listening, calculated as the difference in days between the playback timestamp and the song’s release date. As I mentioned before, I tend to enjoy newer songs more.  \n",
    "* `song_age_in_career_days`: Measures how far into an artist’s career the song was released, calculated as the difference between the song’s release date and the artist’s debut dependent on my listening history. Again, I tend to prefer newer songs more. \n",
    "\n",
    "Here's the code for engineering features I just described. "
   ]
  },
  {
   "cell_type": "code",
   "execution_count": null,
   "id": "43eea46c",
   "metadata": {},
   "outputs": [],
   "source": [
    "# Create a \"skipped\" column\n",
    "history_data['skipped'] = history_data['ms_played'] < 30000\n",
    "\n",
    "# Create a \"track_play_count\" column\n",
    "history_data['track_play_count'] = history_data.groupby('song_uri').cumcount() + 1\n",
    "\n",
    "# Create an \"artist_popularity\" column\n",
    "artist_play_percentage = history_data['artist_name'].value_counts(normalize=True)\n",
    "history_data['artist_popularity'] = history_data['artist_name'].map(artist_play_percentage)\n",
    "\n",
    "# Calculate the time difference between consecutive plays of the same song and make a new column for it\n",
    "time_diffs = history_data.groupby('song_uri')['timestamp'].diff()\n",
    "history_data['seconds_since_last_play'] = time_diffs.dt.total_seconds()\n",
    "history_data['seconds_since_last_play'] = history_data['seconds_since_last_play'].fillna(-1) # First play gets -1 second to avoid NaN\n",
    "\n",
    "# Create a \"repeat_artist\" column\n",
    "history_data['repeat_artist'] = (\n",
    "    history_data['artist_name'] == history_data['artist_name'].shift(1)\n",
    ")\n",
    "\n",
    "# Regroup platform values into broader categories\n",
    "def regroup_platform(platform_string):\n",
    "    # Make values lowercase for consistent matching\n",
    "    platform_string = str(platform_string).lower()\n",
    "    \n",
    "    if 'ios' in platform_string or 'android' in platform_string:\n",
    "        return 'phone'\n",
    "    elif 'os x' in platform_string or 'windows' in platform_string or 'osx' in platform_string:\n",
    "        return 'laptop'\n",
    "    else:\n",
    "        return 'other'\n",
    "\n",
    "history_data['device'] = history_data['platform'].apply(regroup_platform)\n",
    "\n",
    "# Create a \"song_age_days\" column\n",
    "history_data['release_date'] = pd.to_datetime(history_data['release_date'], errors='coerce')\n",
    "history_data['release_date'] = history_data['release_date'].dt.tz_localize('UTC', ambiguous='NaT')\n",
    "history_data['song_age_days'] = (history_data['timestamp'] - history_data['release_date']).dt.days\n",
    "\n",
    "# Create a \"song_age_in_career_days\" column\n",
    "artist_debut_date = history_data.groupby('artist_name')['release_date'].transform('min')\n",
    "history_data['song_age_in_career_days'] = (history_data['release_date'] - artist_debut_date).dt.days + 1\n",
    "history_data['song_age_in_career_days'] = history_data['song_age_in_career_days'].fillna(-1)"
   ]
  },
  {
   "cell_type": "code",
   "execution_count": 46,
   "id": "50c398c3",
   "metadata": {},
   "outputs": [
    {
     "name": "stdout",
     "output_type": "stream",
     "text": [
      "Index(['timestamp', 'platform', 'ms_played', 'country', 'ip_addr', 'song_name',\n",
      "       'artist_name', 'album_name', 'song_uri', 'episode_name',\n",
      "       'episode_show_name', 'spotify_episode_uri', 'audiobook_title',\n",
      "       'audiobook_uri', 'audiobook_chapter_uri', 'audiobook_chapter_title',\n",
      "       'reason_start', 'reason_end', 'shuffle', 'skipped', 'offline',\n",
      "       'offline_timestamp', 'incognito_mode', 'source_file', 'release_date',\n",
      "       'timezone', 'local_datetime', 'local_hour', 'time_of_day', 'weekend',\n",
      "       'track_play_count', 'artist_popularity', 'seconds_since_last_play',\n",
      "       'repeat_artist', 'device', 'song_age_days', 'song_age_in_career_days'],\n",
      "      dtype='object')\n"
     ]
    }
   ],
   "source": [
    "# Print column names\n",
    "print(history_data.columns)"
   ]
  },
  {
   "cell_type": "markdown",
   "id": "849531af",
   "metadata": {},
   "source": [
    "After feature engineering, I remove columns that are redundant, highly granular (e.g., raw timestamps), or no longer needed for modeling. This step reduces noise and ensures that only the most informative variables remain."
   ]
  },
  {
   "cell_type": "code",
   "execution_count": 47,
   "id": "16503d64",
   "metadata": {},
   "outputs": [],
   "source": [
    "# Dropping unneeded columns\n",
    "columns_to_drop = [\"timestamp\", \"platform\", \"ms_played\", \"ip_addr\", \"song_name\",\"artist_name\", \"album_name\", \n",
    "                \"song_uri\", \"episode_name\", \"episode_show_name\", \"spotify_episode_uri\", \"audiobook_title\", \n",
    "                \"audiobook_uri\", \"audiobook_chapter_uri\", \"audiobook_chapter_title\", \"reason_start\", \n",
    "                \"reason_end\", \"offline_timestamp\", \"incognito_mode\", \"source_file\", \"release_date\", \n",
    "                \"timezone\", \"local_datetime\", \"local_hour\"]\n",
    "history_data = history_data.drop(columns=columns_to_drop)"
   ]
  },
  {
   "cell_type": "markdown",
   "id": "d3adea71",
   "metadata": {},
   "source": [
    "Finally, I convert categorical variables into dummy variables using one-hot encoding, allowing the model to interpret categorical information numerically while avoiding multicollinearity by dropping the first level of each category. The resulting DataFrame, `model_data`, is the finalized input for modeling."
   ]
  },
  {
   "cell_type": "code",
   "execution_count": 48,
   "id": "9d5c8f34",
   "metadata": {},
   "outputs": [
    {
     "data": {
      "text/html": [
       "<div>\n",
       "<style scoped>\n",
       "    .dataframe tbody tr th:only-of-type {\n",
       "        vertical-align: middle;\n",
       "    }\n",
       "\n",
       "    .dataframe tbody tr th {\n",
       "        vertical-align: top;\n",
       "    }\n",
       "\n",
       "    .dataframe thead th {\n",
       "        text-align: right;\n",
       "    }\n",
       "</style>\n",
       "<table border=\"1\" class=\"dataframe\">\n",
       "  <thead>\n",
       "    <tr style=\"text-align: right;\">\n",
       "      <th></th>\n",
       "      <th>shuffle</th>\n",
       "      <th>skipped</th>\n",
       "      <th>offline</th>\n",
       "      <th>weekend</th>\n",
       "      <th>track_play_count</th>\n",
       "      <th>artist_popularity</th>\n",
       "      <th>seconds_since_last_play</th>\n",
       "      <th>repeat_artist</th>\n",
       "      <th>song_age_days</th>\n",
       "      <th>song_age_in_career_days</th>\n",
       "      <th>...</th>\n",
       "      <th>country_TR</th>\n",
       "      <th>country_TW</th>\n",
       "      <th>country_US</th>\n",
       "      <th>country_UY</th>\n",
       "      <th>country_UZ</th>\n",
       "      <th>time_of_day_evening</th>\n",
       "      <th>time_of_day_morning</th>\n",
       "      <th>time_of_day_night</th>\n",
       "      <th>device_other</th>\n",
       "      <th>device_phone</th>\n",
       "    </tr>\n",
       "  </thead>\n",
       "  <tbody>\n",
       "    <tr>\n",
       "      <th>10408</th>\n",
       "      <td>True</td>\n",
       "      <td>True</td>\n",
       "      <td>False</td>\n",
       "      <td>False</td>\n",
       "      <td>1</td>\n",
       "      <td>0.000196</td>\n",
       "      <td>-1.0</td>\n",
       "      <td>False</td>\n",
       "      <td>453.0</td>\n",
       "      <td>1.0</td>\n",
       "      <td>...</td>\n",
       "      <td>False</td>\n",
       "      <td>False</td>\n",
       "      <td>False</td>\n",
       "      <td>False</td>\n",
       "      <td>False</td>\n",
       "      <td>True</td>\n",
       "      <td>False</td>\n",
       "      <td>False</td>\n",
       "      <td>False</td>\n",
       "      <td>True</td>\n",
       "    </tr>\n",
       "    <tr>\n",
       "      <th>10409</th>\n",
       "      <td>True</td>\n",
       "      <td>False</td>\n",
       "      <td>False</td>\n",
       "      <td>False</td>\n",
       "      <td>2</td>\n",
       "      <td>0.000196</td>\n",
       "      <td>192686.0</td>\n",
       "      <td>True</td>\n",
       "      <td>455.0</td>\n",
       "      <td>1.0</td>\n",
       "      <td>...</td>\n",
       "      <td>False</td>\n",
       "      <td>False</td>\n",
       "      <td>False</td>\n",
       "      <td>False</td>\n",
       "      <td>False</td>\n",
       "      <td>False</td>\n",
       "      <td>False</td>\n",
       "      <td>True</td>\n",
       "      <td>False</td>\n",
       "      <td>True</td>\n",
       "    </tr>\n",
       "    <tr>\n",
       "      <th>10410</th>\n",
       "      <td>True</td>\n",
       "      <td>True</td>\n",
       "      <td>False</td>\n",
       "      <td>False</td>\n",
       "      <td>1</td>\n",
       "      <td>0.001215</td>\n",
       "      <td>-1.0</td>\n",
       "      <td>False</td>\n",
       "      <td>238.0</td>\n",
       "      <td>2321.0</td>\n",
       "      <td>...</td>\n",
       "      <td>False</td>\n",
       "      <td>False</td>\n",
       "      <td>False</td>\n",
       "      <td>False</td>\n",
       "      <td>False</td>\n",
       "      <td>False</td>\n",
       "      <td>False</td>\n",
       "      <td>True</td>\n",
       "      <td>False</td>\n",
       "      <td>True</td>\n",
       "    </tr>\n",
       "    <tr>\n",
       "      <th>10411</th>\n",
       "      <td>True</td>\n",
       "      <td>True</td>\n",
       "      <td>False</td>\n",
       "      <td>False</td>\n",
       "      <td>1</td>\n",
       "      <td>0.000483</td>\n",
       "      <td>-1.0</td>\n",
       "      <td>False</td>\n",
       "      <td>616.0</td>\n",
       "      <td>1.0</td>\n",
       "      <td>...</td>\n",
       "      <td>False</td>\n",
       "      <td>False</td>\n",
       "      <td>False</td>\n",
       "      <td>False</td>\n",
       "      <td>False</td>\n",
       "      <td>False</td>\n",
       "      <td>False</td>\n",
       "      <td>True</td>\n",
       "      <td>False</td>\n",
       "      <td>True</td>\n",
       "    </tr>\n",
       "    <tr>\n",
       "      <th>10412</th>\n",
       "      <td>True</td>\n",
       "      <td>False</td>\n",
       "      <td>False</td>\n",
       "      <td>True</td>\n",
       "      <td>1</td>\n",
       "      <td>0.000614</td>\n",
       "      <td>-1.0</td>\n",
       "      <td>False</td>\n",
       "      <td>954.0</td>\n",
       "      <td>321.0</td>\n",
       "      <td>...</td>\n",
       "      <td>False</td>\n",
       "      <td>False</td>\n",
       "      <td>False</td>\n",
       "      <td>False</td>\n",
       "      <td>False</td>\n",
       "      <td>False</td>\n",
       "      <td>True</td>\n",
       "      <td>False</td>\n",
       "      <td>False</td>\n",
       "      <td>True</td>\n",
       "    </tr>\n",
       "    <tr>\n",
       "      <th>...</th>\n",
       "      <td>...</td>\n",
       "      <td>...</td>\n",
       "      <td>...</td>\n",
       "      <td>...</td>\n",
       "      <td>...</td>\n",
       "      <td>...</td>\n",
       "      <td>...</td>\n",
       "      <td>...</td>\n",
       "      <td>...</td>\n",
       "      <td>...</td>\n",
       "      <td>...</td>\n",
       "      <td>...</td>\n",
       "      <td>...</td>\n",
       "      <td>...</td>\n",
       "      <td>...</td>\n",
       "      <td>...</td>\n",
       "      <td>...</td>\n",
       "      <td>...</td>\n",
       "      <td>...</td>\n",
       "      <td>...</td>\n",
       "      <td>...</td>\n",
       "    </tr>\n",
       "    <tr>\n",
       "      <th>55173</th>\n",
       "      <td>False</td>\n",
       "      <td>False</td>\n",
       "      <td>False</td>\n",
       "      <td>False</td>\n",
       "      <td>1</td>\n",
       "      <td>0.000209</td>\n",
       "      <td>-1.0</td>\n",
       "      <td>False</td>\n",
       "      <td>632.0</td>\n",
       "      <td>8.0</td>\n",
       "      <td>...</td>\n",
       "      <td>False</td>\n",
       "      <td>False</td>\n",
       "      <td>False</td>\n",
       "      <td>False</td>\n",
       "      <td>False</td>\n",
       "      <td>True</td>\n",
       "      <td>False</td>\n",
       "      <td>False</td>\n",
       "      <td>False</td>\n",
       "      <td>False</td>\n",
       "    </tr>\n",
       "    <tr>\n",
       "      <th>55174</th>\n",
       "      <td>False</td>\n",
       "      <td>True</td>\n",
       "      <td>False</td>\n",
       "      <td>False</td>\n",
       "      <td>1</td>\n",
       "      <td>0.000026</td>\n",
       "      <td>-1.0</td>\n",
       "      <td>False</td>\n",
       "      <td>952.0</td>\n",
       "      <td>1.0</td>\n",
       "      <td>...</td>\n",
       "      <td>False</td>\n",
       "      <td>False</td>\n",
       "      <td>False</td>\n",
       "      <td>False</td>\n",
       "      <td>False</td>\n",
       "      <td>True</td>\n",
       "      <td>False</td>\n",
       "      <td>False</td>\n",
       "      <td>False</td>\n",
       "      <td>True</td>\n",
       "    </tr>\n",
       "    <tr>\n",
       "      <th>55175</th>\n",
       "      <td>False</td>\n",
       "      <td>True</td>\n",
       "      <td>False</td>\n",
       "      <td>False</td>\n",
       "      <td>1</td>\n",
       "      <td>0.000026</td>\n",
       "      <td>-1.0</td>\n",
       "      <td>True</td>\n",
       "      <td>952.0</td>\n",
       "      <td>1.0</td>\n",
       "      <td>...</td>\n",
       "      <td>False</td>\n",
       "      <td>False</td>\n",
       "      <td>False</td>\n",
       "      <td>False</td>\n",
       "      <td>False</td>\n",
       "      <td>True</td>\n",
       "      <td>False</td>\n",
       "      <td>False</td>\n",
       "      <td>False</td>\n",
       "      <td>False</td>\n",
       "    </tr>\n",
       "    <tr>\n",
       "      <th>55176</th>\n",
       "      <td>False</td>\n",
       "      <td>False</td>\n",
       "      <td>False</td>\n",
       "      <td>False</td>\n",
       "      <td>3</td>\n",
       "      <td>0.023754</td>\n",
       "      <td>349318.0</td>\n",
       "      <td>False</td>\n",
       "      <td>4.0</td>\n",
       "      <td>6920.0</td>\n",
       "      <td>...</td>\n",
       "      <td>False</td>\n",
       "      <td>False</td>\n",
       "      <td>False</td>\n",
       "      <td>False</td>\n",
       "      <td>False</td>\n",
       "      <td>True</td>\n",
       "      <td>False</td>\n",
       "      <td>False</td>\n",
       "      <td>False</td>\n",
       "      <td>False</td>\n",
       "    </tr>\n",
       "    <tr>\n",
       "      <th>55177</th>\n",
       "      <td>False</td>\n",
       "      <td>False</td>\n",
       "      <td>False</td>\n",
       "      <td>False</td>\n",
       "      <td>3</td>\n",
       "      <td>0.023754</td>\n",
       "      <td>349575.0</td>\n",
       "      <td>True</td>\n",
       "      <td>4.0</td>\n",
       "      <td>6920.0</td>\n",
       "      <td>...</td>\n",
       "      <td>False</td>\n",
       "      <td>False</td>\n",
       "      <td>False</td>\n",
       "      <td>False</td>\n",
       "      <td>False</td>\n",
       "      <td>True</td>\n",
       "      <td>False</td>\n",
       "      <td>False</td>\n",
       "      <td>False</td>\n",
       "      <td>False</td>\n",
       "    </tr>\n",
       "  </tbody>\n",
       "</table>\n",
       "<p>76534 rows × 27 columns</p>\n",
       "</div>"
      ],
      "text/plain": [
       "       shuffle  skipped  offline  weekend  track_play_count  \\\n",
       "10408     True     True    False    False                 1   \n",
       "10409     True    False    False    False                 2   \n",
       "10410     True     True    False    False                 1   \n",
       "10411     True     True    False    False                 1   \n",
       "10412     True    False    False     True                 1   \n",
       "...        ...      ...      ...      ...               ...   \n",
       "55173    False    False    False    False                 1   \n",
       "55174    False     True    False    False                 1   \n",
       "55175    False     True    False    False                 1   \n",
       "55176    False    False    False    False                 3   \n",
       "55177    False    False    False    False                 3   \n",
       "\n",
       "       artist_popularity  seconds_since_last_play  repeat_artist  \\\n",
       "10408           0.000196                     -1.0          False   \n",
       "10409           0.000196                 192686.0           True   \n",
       "10410           0.001215                     -1.0          False   \n",
       "10411           0.000483                     -1.0          False   \n",
       "10412           0.000614                     -1.0          False   \n",
       "...                  ...                      ...            ...   \n",
       "55173           0.000209                     -1.0          False   \n",
       "55174           0.000026                     -1.0          False   \n",
       "55175           0.000026                     -1.0           True   \n",
       "55176           0.023754                 349318.0          False   \n",
       "55177           0.023754                 349575.0           True   \n",
       "\n",
       "       song_age_days  song_age_in_career_days  ...  country_TR  country_TW  \\\n",
       "10408          453.0                      1.0  ...       False       False   \n",
       "10409          455.0                      1.0  ...       False       False   \n",
       "10410          238.0                   2321.0  ...       False       False   \n",
       "10411          616.0                      1.0  ...       False       False   \n",
       "10412          954.0                    321.0  ...       False       False   \n",
       "...              ...                      ...  ...         ...         ...   \n",
       "55173          632.0                      8.0  ...       False       False   \n",
       "55174          952.0                      1.0  ...       False       False   \n",
       "55175          952.0                      1.0  ...       False       False   \n",
       "55176            4.0                   6920.0  ...       False       False   \n",
       "55177            4.0                   6920.0  ...       False       False   \n",
       "\n",
       "       country_US  country_UY  country_UZ  time_of_day_evening  \\\n",
       "10408       False       False       False                 True   \n",
       "10409       False       False       False                False   \n",
       "10410       False       False       False                False   \n",
       "10411       False       False       False                False   \n",
       "10412       False       False       False                False   \n",
       "...           ...         ...         ...                  ...   \n",
       "55173       False       False       False                 True   \n",
       "55174       False       False       False                 True   \n",
       "55175       False       False       False                 True   \n",
       "55176       False       False       False                 True   \n",
       "55177       False       False       False                 True   \n",
       "\n",
       "       time_of_day_morning  time_of_day_night  device_other  device_phone  \n",
       "10408                False              False         False          True  \n",
       "10409                False               True         False          True  \n",
       "10410                False               True         False          True  \n",
       "10411                False               True         False          True  \n",
       "10412                 True              False         False          True  \n",
       "...                    ...                ...           ...           ...  \n",
       "55173                False              False         False         False  \n",
       "55174                False              False         False          True  \n",
       "55175                False              False         False         False  \n",
       "55176                False              False         False         False  \n",
       "55177                False              False         False         False  \n",
       "\n",
       "[76534 rows x 27 columns]"
      ]
     },
     "execution_count": 48,
     "metadata": {},
     "output_type": "execute_result"
    }
   ],
   "source": [
    "# Convert categorical text to dummy variables\n",
    "categorical_columns = ['country', 'time_of_day', 'device']\n",
    "model_data = pd.get_dummies(history_data, columns=categorical_columns, drop_first=True).copy()\n",
    "\n",
    "model_data"
   ]
  },
  {
   "cell_type": "markdown",
   "id": "586c47f6",
   "metadata": {},
   "source": [
    "I print out column names again to confirm that I have the columns I want."
   ]
  },
  {
   "cell_type": "code",
   "execution_count": 49,
   "id": "8e70a0d2",
   "metadata": {},
   "outputs": [
    {
     "data": {
      "text/plain": [
       "Index(['shuffle', 'skipped', 'offline', 'weekend', 'track_play_count',\n",
       "       'artist_popularity', 'seconds_since_last_play', 'repeat_artist',\n",
       "       'song_age_days', 'song_age_in_career_days', 'country_AR', 'country_IT',\n",
       "       'country_JP', 'country_KR', 'country_LV', 'country_NL', 'country_SE',\n",
       "       'country_TR', 'country_TW', 'country_US', 'country_UY', 'country_UZ',\n",
       "       'time_of_day_evening', 'time_of_day_morning', 'time_of_day_night',\n",
       "       'device_other', 'device_phone'],\n",
       "      dtype='object')"
      ]
     },
     "execution_count": 49,
     "metadata": {},
     "output_type": "execute_result"
    }
   ],
   "source": [
    "model_data.columns"
   ]
  },
  {
   "cell_type": "markdown",
   "id": "06a7d072",
   "metadata": {},
   "source": [
    "## Describing Data More"
   ]
  },
  {
   "cell_type": "markdown",
   "id": "d204ce65",
   "metadata": {},
   "source": [
    "Let's use `.describe()` to compute summary statistics for all quantitative features, including count, mean, standard deviation, and quartiles."
   ]
  },
  {
   "cell_type": "code",
   "execution_count": 50,
   "id": "fd36d10b",
   "metadata": {},
   "outputs": [
    {
     "data": {
      "text/html": [
       "<div>\n",
       "<style scoped>\n",
       "    .dataframe tbody tr th:only-of-type {\n",
       "        vertical-align: middle;\n",
       "    }\n",
       "\n",
       "    .dataframe tbody tr th {\n",
       "        vertical-align: top;\n",
       "    }\n",
       "\n",
       "    .dataframe thead th {\n",
       "        text-align: right;\n",
       "    }\n",
       "</style>\n",
       "<table border=\"1\" class=\"dataframe\">\n",
       "  <thead>\n",
       "    <tr style=\"text-align: right;\">\n",
       "      <th></th>\n",
       "      <th>count</th>\n",
       "      <th>mean</th>\n",
       "      <th>std</th>\n",
       "      <th>min</th>\n",
       "      <th>25%</th>\n",
       "      <th>50%</th>\n",
       "      <th>75%</th>\n",
       "      <th>max</th>\n",
       "    </tr>\n",
       "  </thead>\n",
       "  <tbody>\n",
       "    <tr>\n",
       "      <th>track_play_count</th>\n",
       "      <td>76534.0</td>\n",
       "      <td>2.464556e+01</td>\n",
       "      <td>3.420537e+01</td>\n",
       "      <td>1.000000</td>\n",
       "      <td>2.000000</td>\n",
       "      <td>10.000000</td>\n",
       "      <td>33.000000</td>\n",
       "      <td>2.420000e+02</td>\n",
       "    </tr>\n",
       "    <tr>\n",
       "      <th>artist_popularity</th>\n",
       "      <td>76534.0</td>\n",
       "      <td>5.675751e-03</td>\n",
       "      <td>8.189614e-03</td>\n",
       "      <td>0.000013</td>\n",
       "      <td>0.000395</td>\n",
       "      <td>0.001672</td>\n",
       "      <td>0.007186</td>\n",
       "      <td>3.270442e-02</td>\n",
       "    </tr>\n",
       "    <tr>\n",
       "      <th>seconds_since_last_play</th>\n",
       "      <td>76534.0</td>\n",
       "      <td>2.208057e+06</td>\n",
       "      <td>7.853381e+06</td>\n",
       "      <td>-1.000000</td>\n",
       "      <td>2307.250000</td>\n",
       "      <td>150793.500000</td>\n",
       "      <td>863539.000000</td>\n",
       "      <td>1.693545e+08</td>\n",
       "    </tr>\n",
       "    <tr>\n",
       "      <th>song_age_days</th>\n",
       "      <td>73358.0</td>\n",
       "      <td>2.365345e+03</td>\n",
       "      <td>3.392181e+03</td>\n",
       "      <td>-228.000000</td>\n",
       "      <td>316.000000</td>\n",
       "      <td>1054.000000</td>\n",
       "      <td>3106.000000</td>\n",
       "      <td>3.465800e+04</td>\n",
       "    </tr>\n",
       "    <tr>\n",
       "      <th>song_age_in_career_days</th>\n",
       "      <td>76534.0</td>\n",
       "      <td>1.428039e+03</td>\n",
       "      <td>2.065952e+03</td>\n",
       "      <td>-1.000000</td>\n",
       "      <td>1.000000</td>\n",
       "      <td>670.500000</td>\n",
       "      <td>2184.000000</td>\n",
       "      <td>2.482400e+04</td>\n",
       "    </tr>\n",
       "  </tbody>\n",
       "</table>\n",
       "</div>"
      ],
      "text/plain": [
       "                           count          mean           std         min  \\\n",
       "track_play_count         76534.0  2.464556e+01  3.420537e+01    1.000000   \n",
       "artist_popularity        76534.0  5.675751e-03  8.189614e-03    0.000013   \n",
       "seconds_since_last_play  76534.0  2.208057e+06  7.853381e+06   -1.000000   \n",
       "song_age_days            73358.0  2.365345e+03  3.392181e+03 -228.000000   \n",
       "song_age_in_career_days  76534.0  1.428039e+03  2.065952e+03   -1.000000   \n",
       "\n",
       "                                 25%            50%            75%  \\\n",
       "track_play_count            2.000000      10.000000      33.000000   \n",
       "artist_popularity           0.000395       0.001672       0.007186   \n",
       "seconds_since_last_play  2307.250000  150793.500000  863539.000000   \n",
       "song_age_days             316.000000    1054.000000    3106.000000   \n",
       "song_age_in_career_days     1.000000     670.500000    2184.000000   \n",
       "\n",
       "                                  max  \n",
       "track_play_count         2.420000e+02  \n",
       "artist_popularity        3.270442e-02  \n",
       "seconds_since_last_play  1.693545e+08  \n",
       "song_age_days            3.465800e+04  \n",
       "song_age_in_career_days  2.482400e+04  "
      ]
     },
     "execution_count": 50,
     "metadata": {},
     "output_type": "execute_result"
    }
   ],
   "source": [
    "# Summary statistics of the quantitative data\n",
    "model_data.describe().T"
   ]
  },
  {
   "cell_type": "markdown",
   "id": "3d630a8c",
   "metadata": {},
   "source": [
    "Summary statistics of `track_play_count` shows that most songs have been played a small number of times, with the middle 50% being played from 2 to 33 times, while some tracks have very high play counts, indicating heavy repetition for a few favorites. `artist_popularity` is generally low, suggesting a long tail of less frequently played artists. `seconds_since_last_play` has a very wide range and high standard deviation, reflecting irregular listening intervals for repeated tracks. `song_age_in_career_days` show that the dataset contains both very recent and very old songs. Overall, these statistics highlight skewed distributions and potential outliers that the model may need to account for.\n",
    "\n",
    "The problematic feature is `song_age_days`, as I am not expecting negative values. The issue likely arrises because the `release_date` fetched from the Spotify can be approximate, as some songs don't have information regarding the exact release day (in this case, Spotify approximates to months or even years), so the API call could have returned the first day of the year in which the song was released.\n",
    "\n",
    "To avoid the negative `song_age_days` values, I remove entries with `song_age_days` less than zero. "
   ]
  },
  {
   "cell_type": "code",
   "execution_count": 51,
   "id": "29aa0a3f",
   "metadata": {},
   "outputs": [],
   "source": [
    "# Remove entries with \"song_age_days\" less than zero\n",
    "model_data = model_data[model_data['song_age_days'] >= 0]"
   ]
  },
  {
   "cell_type": "markdown",
   "id": "3acc980c",
   "metadata": {},
   "source": [
    "I print the summary statistics of `song_age_days` column again to confirm that the issue with negative values is resolved. "
   ]
  },
  {
   "cell_type": "code",
   "execution_count": 52,
   "id": "5a2644da",
   "metadata": {},
   "outputs": [
    {
     "data": {
      "text/plain": [
       "count    73318.000000\n",
       "mean      2366.751453\n",
       "std       3392.570860\n",
       "min          0.000000\n",
       "25%        317.000000\n",
       "50%       1055.000000\n",
       "75%       3107.000000\n",
       "max      34658.000000\n",
       "Name: song_age_days, dtype: float64"
      ]
     },
     "execution_count": 52,
     "metadata": {},
     "output_type": "execute_result"
    }
   ],
   "source": [
    "# Print summary statistics of \"song_age_days\"\n",
    "model_data['song_age_days'].describe()"
   ]
  },
  {
   "cell_type": "markdown",
   "id": "3679a2d5",
   "metadata": {},
   "source": [
    "Next, I examine the distribution of boolean features, by calculating the proportion of True vs. False values."
   ]
  },
  {
   "cell_type": "code",
   "execution_count": null,
   "id": "4ddf34fe",
   "metadata": {},
   "outputs": [
    {
     "data": {
      "text/html": [
       "<div>\n",
       "<style scoped>\n",
       "    .dataframe tbody tr th:only-of-type {\n",
       "        vertical-align: middle;\n",
       "    }\n",
       "\n",
       "    .dataframe tbody tr th {\n",
       "        vertical-align: top;\n",
       "    }\n",
       "\n",
       "    .dataframe thead th {\n",
       "        text-align: right;\n",
       "    }\n",
       "</style>\n",
       "<table border=\"1\" class=\"dataframe\">\n",
       "  <thead>\n",
       "    <tr style=\"text-align: right;\">\n",
       "      <th></th>\n",
       "      <th>False</th>\n",
       "      <th>True</th>\n",
       "    </tr>\n",
       "  </thead>\n",
       "  <tbody>\n",
       "    <tr>\n",
       "      <th>shuffle</th>\n",
       "      <td>34.423</td>\n",
       "      <td>65.577</td>\n",
       "    </tr>\n",
       "    <tr>\n",
       "      <th>skipped</th>\n",
       "      <td>69.741</td>\n",
       "      <td>30.259</td>\n",
       "    </tr>\n",
       "    <tr>\n",
       "      <th>offline</th>\n",
       "      <td>96.305</td>\n",
       "      <td>3.695</td>\n",
       "    </tr>\n",
       "    <tr>\n",
       "      <th>weekend</th>\n",
       "      <td>68.733</td>\n",
       "      <td>31.267</td>\n",
       "    </tr>\n",
       "    <tr>\n",
       "      <th>repeat_artist</th>\n",
       "      <td>88.212</td>\n",
       "      <td>11.788</td>\n",
       "    </tr>\n",
       "    <tr>\n",
       "      <th>country_AR</th>\n",
       "      <td>98.269</td>\n",
       "      <td>1.731</td>\n",
       "    </tr>\n",
       "    <tr>\n",
       "      <th>country_IT</th>\n",
       "      <td>99.890</td>\n",
       "      <td>0.110</td>\n",
       "    </tr>\n",
       "    <tr>\n",
       "      <th>country_JP</th>\n",
       "      <td>99.806</td>\n",
       "      <td>0.194</td>\n",
       "    </tr>\n",
       "    <tr>\n",
       "      <th>country_KR</th>\n",
       "      <td>92.430</td>\n",
       "      <td>7.570</td>\n",
       "    </tr>\n",
       "    <tr>\n",
       "      <th>country_LV</th>\n",
       "      <td>38.708</td>\n",
       "      <td>61.292</td>\n",
       "    </tr>\n",
       "    <tr>\n",
       "      <th>country_NL</th>\n",
       "      <td>99.996</td>\n",
       "      <td>0.004</td>\n",
       "    </tr>\n",
       "    <tr>\n",
       "      <th>country_SE</th>\n",
       "      <td>99.995</td>\n",
       "      <td>0.005</td>\n",
       "    </tr>\n",
       "    <tr>\n",
       "      <th>country_TR</th>\n",
       "      <td>99.966</td>\n",
       "      <td>0.034</td>\n",
       "    </tr>\n",
       "    <tr>\n",
       "      <th>country_TW</th>\n",
       "      <td>93.242</td>\n",
       "      <td>6.758</td>\n",
       "    </tr>\n",
       "    <tr>\n",
       "      <th>country_US</th>\n",
       "      <td>80.256</td>\n",
       "      <td>19.744</td>\n",
       "    </tr>\n",
       "    <tr>\n",
       "      <th>country_UY</th>\n",
       "      <td>97.760</td>\n",
       "      <td>2.240</td>\n",
       "    </tr>\n",
       "    <tr>\n",
       "      <th>country_UZ</th>\n",
       "      <td>99.831</td>\n",
       "      <td>0.169</td>\n",
       "    </tr>\n",
       "    <tr>\n",
       "      <th>time_of_day_evening</th>\n",
       "      <td>72.970</td>\n",
       "      <td>27.030</td>\n",
       "    </tr>\n",
       "    <tr>\n",
       "      <th>time_of_day_morning</th>\n",
       "      <td>84.221</td>\n",
       "      <td>15.779</td>\n",
       "    </tr>\n",
       "    <tr>\n",
       "      <th>time_of_day_night</th>\n",
       "      <td>71.527</td>\n",
       "      <td>28.473</td>\n",
       "    </tr>\n",
       "    <tr>\n",
       "      <th>device_other</th>\n",
       "      <td>98.058</td>\n",
       "      <td>1.942</td>\n",
       "    </tr>\n",
       "    <tr>\n",
       "      <th>device_phone</th>\n",
       "      <td>36.048</td>\n",
       "      <td>63.952</td>\n",
       "    </tr>\n",
       "  </tbody>\n",
       "</table>\n",
       "</div>"
      ],
      "text/plain": [
       "                      False   True \n",
       "shuffle              34.423  65.577\n",
       "skipped              69.741  30.259\n",
       "offline              96.305   3.695\n",
       "weekend              68.733  31.267\n",
       "repeat_artist        88.212  11.788\n",
       "country_AR           98.269   1.731\n",
       "country_IT           99.890   0.110\n",
       "country_JP           99.806   0.194\n",
       "country_KR           92.430   7.570\n",
       "country_LV           38.708  61.292\n",
       "country_NL           99.996   0.004\n",
       "country_SE           99.995   0.005\n",
       "country_TR           99.966   0.034\n",
       "country_TW           93.242   6.758\n",
       "country_US           80.256  19.744\n",
       "country_UY           97.760   2.240\n",
       "country_UZ           99.831   0.169\n",
       "time_of_day_evening  72.970  27.030\n",
       "time_of_day_morning  84.221  15.779\n",
       "time_of_day_night    71.527  28.473\n",
       "device_other         98.058   1.942\n",
       "device_phone         36.048  63.952"
      ]
     },
     "metadata": {},
     "output_type": "display_data"
    }
   ],
   "source": [
    "# False vs. True proportions for the boolean columns\n",
    "boolean_df = model_data.select_dtypes(include=['bool'])\n",
    "summary_table = boolean_df.apply(lambda x: x.value_counts(normalize=True)) * 100\n",
    "display(summary_table.T.round(3))"
   ]
  },
  {
   "cell_type": "markdown",
   "id": "8eda9665",
   "metadata": {},
   "source": [
    "One of the most important observations of the cell's output above is that I have an imbalanced dataset with 70% of entries representing skipped songs and 30% non-skipped songs. This will become important in building and evaluating the model. \n",
    "\n",
    "To investigate relationships between features, I calculate a correlation matrix and visualize it using a heatmap."
   ]
  },
  {
   "cell_type": "code",
   "execution_count": null,
   "id": "20afe252",
   "metadata": {},
   "outputs": [
    {
     "data": {
      "application/vnd.plotly.v1+json": {
       "config": {
        "plotlyServerURL": "https://plot.ly"
       },
       "data": [
        {
         "coloraxis": "coloraxis",
         "hovertemplate": "x: %{x}<br>y: %{y}<br>color: %{z}<extra></extra>",
         "name": "0",
         "type": "heatmap",
         "x": [
          "shuffle",
          "skipped",
          "offline",
          "weekend",
          "track_play_count",
          "artist_popularity",
          "seconds_since_last_play",
          "repeat_artist",
          "song_age_days",
          "song_age_in_career_days",
          "country_AR",
          "country_IT",
          "country_JP",
          "country_KR",
          "country_LV",
          "country_NL",
          "country_SE",
          "country_TR",
          "country_TW",
          "country_US",
          "country_UY",
          "country_UZ",
          "time_of_day_evening",
          "time_of_day_morning",
          "time_of_day_night",
          "device_other",
          "device_phone"
         ],
         "xaxis": "x",
         "y": [
          "shuffle",
          "skipped",
          "offline",
          "weekend",
          "track_play_count",
          "artist_popularity",
          "seconds_since_last_play",
          "repeat_artist",
          "song_age_days",
          "song_age_in_career_days",
          "country_AR",
          "country_IT",
          "country_JP",
          "country_KR",
          "country_LV",
          "country_NL",
          "country_SE",
          "country_TR",
          "country_TW",
          "country_US",
          "country_UY",
          "country_UZ",
          "time_of_day_evening",
          "time_of_day_morning",
          "time_of_day_night",
          "device_other",
          "device_phone"
         ],
         "yaxis": "y",
         "z": {
          "bdata": "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",
          "dtype": "f8",
          "shape": "27, 27"
         }
        }
       ],
       "layout": {
        "coloraxis": {
         "colorscale": [
          [
           0,
           "rgb(103,0,31)"
          ],
          [
           0.1,
           "rgb(178,24,43)"
          ],
          [
           0.2,
           "rgb(214,96,77)"
          ],
          [
           0.3,
           "rgb(244,165,130)"
          ],
          [
           0.4,
           "rgb(253,219,199)"
          ],
          [
           0.5,
           "rgb(247,247,247)"
          ],
          [
           0.6,
           "rgb(209,229,240)"
          ],
          [
           0.7,
           "rgb(146,197,222)"
          ],
          [
           0.8,
           "rgb(67,147,195)"
          ],
          [
           0.9,
           "rgb(33,102,172)"
          ],
          [
           1,
           "rgb(5,48,97)"
          ]
         ]
        },
        "height": 950,
        "template": {
         "data": {
          "bar": [
           {
            "error_x": {
             "color": "#2a3f5f"
            },
            "error_y": {
             "color": "#2a3f5f"
            },
            "marker": {
             "line": {
              "color": "#E5ECF6",
              "width": 0.5
             },
             "pattern": {
              "fillmode": "overlay",
              "size": 10,
              "solidity": 0.2
             }
            },
            "type": "bar"
           }
          ],
          "barpolar": [
           {
            "marker": {
             "line": {
              "color": "#E5ECF6",
              "width": 0.5
             },
             "pattern": {
              "fillmode": "overlay",
              "size": 10,
              "solidity": 0.2
             }
            },
            "type": "barpolar"
           }
          ],
          "carpet": [
           {
            "aaxis": {
             "endlinecolor": "#2a3f5f",
             "gridcolor": "white",
             "linecolor": "white",
             "minorgridcolor": "white",
             "startlinecolor": "#2a3f5f"
            },
            "baxis": {
             "endlinecolor": "#2a3f5f",
             "gridcolor": "white",
             "linecolor": "white",
             "minorgridcolor": "white",
             "startlinecolor": "#2a3f5f"
            },
            "type": "carpet"
           }
          ],
          "choropleth": [
           {
            "colorbar": {
             "outlinewidth": 0,
             "ticks": ""
            },
            "type": "choropleth"
           }
          ],
          "contour": [
           {
            "colorbar": {
             "outlinewidth": 0,
             "ticks": ""
            },
            "colorscale": [
             [
              0,
              "#0d0887"
             ],
             [
              0.1111111111111111,
              "#46039f"
             ],
             [
              0.2222222222222222,
              "#7201a8"
             ],
             [
              0.3333333333333333,
              "#9c179e"
             ],
             [
              0.4444444444444444,
              "#bd3786"
             ],
             [
              0.5555555555555556,
              "#d8576b"
             ],
             [
              0.6666666666666666,
              "#ed7953"
             ],
             [
              0.7777777777777778,
              "#fb9f3a"
             ],
             [
              0.8888888888888888,
              "#fdca26"
             ],
             [
              1,
              "#f0f921"
             ]
            ],
            "type": "contour"
           }
          ],
          "contourcarpet": [
           {
            "colorbar": {
             "outlinewidth": 0,
             "ticks": ""
            },
            "type": "contourcarpet"
           }
          ],
          "heatmap": [
           {
            "colorbar": {
             "outlinewidth": 0,
             "ticks": ""
            },
            "colorscale": [
             [
              0,
              "#0d0887"
             ],
             [
              0.1111111111111111,
              "#46039f"
             ],
             [
              0.2222222222222222,
              "#7201a8"
             ],
             [
              0.3333333333333333,
              "#9c179e"
             ],
             [
              0.4444444444444444,
              "#bd3786"
             ],
             [
              0.5555555555555556,
              "#d8576b"
             ],
             [
              0.6666666666666666,
              "#ed7953"
             ],
             [
              0.7777777777777778,
              "#fb9f3a"
             ],
             [
              0.8888888888888888,
              "#fdca26"
             ],
             [
              1,
              "#f0f921"
             ]
            ],
            "type": "heatmap"
           }
          ],
          "histogram": [
           {
            "marker": {
             "pattern": {
              "fillmode": "overlay",
              "size": 10,
              "solidity": 0.2
             }
            },
            "type": "histogram"
           }
          ],
          "histogram2d": [
           {
            "colorbar": {
             "outlinewidth": 0,
             "ticks": ""
            },
            "colorscale": [
             [
              0,
              "#0d0887"
             ],
             [
              0.1111111111111111,
              "#46039f"
             ],
             [
              0.2222222222222222,
              "#7201a8"
             ],
             [
              0.3333333333333333,
              "#9c179e"
             ],
             [
              0.4444444444444444,
              "#bd3786"
             ],
             [
              0.5555555555555556,
              "#d8576b"
             ],
             [
              0.6666666666666666,
              "#ed7953"
             ],
             [
              0.7777777777777778,
              "#fb9f3a"
             ],
             [
              0.8888888888888888,
              "#fdca26"
             ],
             [
              1,
              "#f0f921"
             ]
            ],
            "type": "histogram2d"
           }
          ],
          "histogram2dcontour": [
           {
            "colorbar": {
             "outlinewidth": 0,
             "ticks": ""
            },
            "colorscale": [
             [
              0,
              "#0d0887"
             ],
             [
              0.1111111111111111,
              "#46039f"
             ],
             [
              0.2222222222222222,
              "#7201a8"
             ],
             [
              0.3333333333333333,
              "#9c179e"
             ],
             [
              0.4444444444444444,
              "#bd3786"
             ],
             [
              0.5555555555555556,
              "#d8576b"
             ],
             [
              0.6666666666666666,
              "#ed7953"
             ],
             [
              0.7777777777777778,
              "#fb9f3a"
             ],
             [
              0.8888888888888888,
              "#fdca26"
             ],
             [
              1,
              "#f0f921"
             ]
            ],
            "type": "histogram2dcontour"
           }
          ],
          "mesh3d": [
           {
            "colorbar": {
             "outlinewidth": 0,
             "ticks": ""
            },
            "type": "mesh3d"
           }
          ],
          "parcoords": [
           {
            "line": {
             "colorbar": {
              "outlinewidth": 0,
              "ticks": ""
             }
            },
            "type": "parcoords"
           }
          ],
          "pie": [
           {
            "automargin": true,
            "type": "pie"
           }
          ],
          "scatter": [
           {
            "fillpattern": {
             "fillmode": "overlay",
             "size": 10,
             "solidity": 0.2
            },
            "type": "scatter"
           }
          ],
          "scatter3d": [
           {
            "line": {
             "colorbar": {
              "outlinewidth": 0,
              "ticks": ""
             }
            },
            "marker": {
             "colorbar": {
              "outlinewidth": 0,
              "ticks": ""
             }
            },
            "type": "scatter3d"
           }
          ],
          "scattercarpet": [
           {
            "marker": {
             "colorbar": {
              "outlinewidth": 0,
              "ticks": ""
             }
            },
            "type": "scattercarpet"
           }
          ],
          "scattergeo": [
           {
            "marker": {
             "colorbar": {
              "outlinewidth": 0,
              "ticks": ""
             }
            },
            "type": "scattergeo"
           }
          ],
          "scattergl": [
           {
            "marker": {
             "colorbar": {
              "outlinewidth": 0,
              "ticks": ""
             }
            },
            "type": "scattergl"
           }
          ],
          "scattermap": [
           {
            "marker": {
             "colorbar": {
              "outlinewidth": 0,
              "ticks": ""
             }
            },
            "type": "scattermap"
           }
          ],
          "scattermapbox": [
           {
            "marker": {
             "colorbar": {
              "outlinewidth": 0,
              "ticks": ""
             }
            },
            "type": "scattermapbox"
           }
          ],
          "scatterpolar": [
           {
            "marker": {
             "colorbar": {
              "outlinewidth": 0,
              "ticks": ""
             }
            },
            "type": "scatterpolar"
           }
          ],
          "scatterpolargl": [
           {
            "marker": {
             "colorbar": {
              "outlinewidth": 0,
              "ticks": ""
             }
            },
            "type": "scatterpolargl"
           }
          ],
          "scatterternary": [
           {
            "marker": {
             "colorbar": {
              "outlinewidth": 0,
              "ticks": ""
             }
            },
            "type": "scatterternary"
           }
          ],
          "surface": [
           {
            "colorbar": {
             "outlinewidth": 0,
             "ticks": ""
            },
            "colorscale": [
             [
              0,
              "#0d0887"
             ],
             [
              0.1111111111111111,
              "#46039f"
             ],
             [
              0.2222222222222222,
              "#7201a8"
             ],
             [
              0.3333333333333333,
              "#9c179e"
             ],
             [
              0.4444444444444444,
              "#bd3786"
             ],
             [
              0.5555555555555556,
              "#d8576b"
             ],
             [
              0.6666666666666666,
              "#ed7953"
             ],
             [
              0.7777777777777778,
              "#fb9f3a"
             ],
             [
              0.8888888888888888,
              "#fdca26"
             ],
             [
              1,
              "#f0f921"
             ]
            ],
            "type": "surface"
           }
          ],
          "table": [
           {
            "cells": {
             "fill": {
              "color": "#EBF0F8"
             },
             "line": {
              "color": "white"
             }
            },
            "header": {
             "fill": {
              "color": "#C8D4E3"
             },
             "line": {
              "color": "white"
             }
            },
            "type": "table"
           }
          ]
         },
         "layout": {
          "annotationdefaults": {
           "arrowcolor": "#2a3f5f",
           "arrowhead": 0,
           "arrowwidth": 1
          },
          "autotypenumbers": "strict",
          "coloraxis": {
           "colorbar": {
            "outlinewidth": 0,
            "ticks": ""
           }
          },
          "colorscale": {
           "diverging": [
            [
             0,
             "#8e0152"
            ],
            [
             0.1,
             "#c51b7d"
            ],
            [
             0.2,
             "#de77ae"
            ],
            [
             0.3,
             "#f1b6da"
            ],
            [
             0.4,
             "#fde0ef"
            ],
            [
             0.5,
             "#f7f7f7"
            ],
            [
             0.6,
             "#e6f5d0"
            ],
            [
             0.7,
             "#b8e186"
            ],
            [
             0.8,
             "#7fbc41"
            ],
            [
             0.9,
             "#4d9221"
            ],
            [
             1,
             "#276419"
            ]
           ],
           "sequential": [
            [
             0,
             "#0d0887"
            ],
            [
             0.1111111111111111,
             "#46039f"
            ],
            [
             0.2222222222222222,
             "#7201a8"
            ],
            [
             0.3333333333333333,
             "#9c179e"
            ],
            [
             0.4444444444444444,
             "#bd3786"
            ],
            [
             0.5555555555555556,
             "#d8576b"
            ],
            [
             0.6666666666666666,
             "#ed7953"
            ],
            [
             0.7777777777777778,
             "#fb9f3a"
            ],
            [
             0.8888888888888888,
             "#fdca26"
            ],
            [
             1,
             "#f0f921"
            ]
           ],
           "sequentialminus": [
            [
             0,
             "#0d0887"
            ],
            [
             0.1111111111111111,
             "#46039f"
            ],
            [
             0.2222222222222222,
             "#7201a8"
            ],
            [
             0.3333333333333333,
             "#9c179e"
            ],
            [
             0.4444444444444444,
             "#bd3786"
            ],
            [
             0.5555555555555556,
             "#d8576b"
            ],
            [
             0.6666666666666666,
             "#ed7953"
            ],
            [
             0.7777777777777778,
             "#fb9f3a"
            ],
            [
             0.8888888888888888,
             "#fdca26"
            ],
            [
             1,
             "#f0f921"
            ]
           ]
          },
          "colorway": [
           "#636efa",
           "#EF553B",
           "#00cc96",
           "#ab63fa",
           "#FFA15A",
           "#19d3f3",
           "#FF6692",
           "#B6E880",
           "#FF97FF",
           "#FECB52"
          ],
          "font": {
           "color": "#2a3f5f"
          },
          "geo": {
           "bgcolor": "white",
           "lakecolor": "white",
           "landcolor": "#E5ECF6",
           "showlakes": true,
           "showland": true,
           "subunitcolor": "white"
          },
          "hoverlabel": {
           "align": "left"
          },
          "hovermode": "closest",
          "mapbox": {
           "style": "light"
          },
          "paper_bgcolor": "white",
          "plot_bgcolor": "#E5ECF6",
          "polar": {
           "angularaxis": {
            "gridcolor": "white",
            "linecolor": "white",
            "ticks": ""
           },
           "bgcolor": "#E5ECF6",
           "radialaxis": {
            "gridcolor": "white",
            "linecolor": "white",
            "ticks": ""
           }
          },
          "scene": {
           "xaxis": {
            "backgroundcolor": "#E5ECF6",
            "gridcolor": "white",
            "gridwidth": 2,
            "linecolor": "white",
            "showbackground": true,
            "ticks": "",
            "zerolinecolor": "white"
           },
           "yaxis": {
            "backgroundcolor": "#E5ECF6",
            "gridcolor": "white",
            "gridwidth": 2,
            "linecolor": "white",
            "showbackground": true,
            "ticks": "",
            "zerolinecolor": "white"
           },
           "zaxis": {
            "backgroundcolor": "#E5ECF6",
            "gridcolor": "white",
            "gridwidth": 2,
            "linecolor": "white",
            "showbackground": true,
            "ticks": "",
            "zerolinecolor": "white"
           }
          },
          "shapedefaults": {
           "line": {
            "color": "#2a3f5f"
           }
          },
          "ternary": {
           "aaxis": {
            "gridcolor": "white",
            "linecolor": "white",
            "ticks": ""
           },
           "baxis": {
            "gridcolor": "white",
            "linecolor": "white",
            "ticks": ""
           },
           "bgcolor": "#E5ECF6",
           "caxis": {
            "gridcolor": "white",
            "linecolor": "white",
            "ticks": ""
           }
          },
          "title": {
           "x": 0.05
          },
          "xaxis": {
           "automargin": true,
           "gridcolor": "white",
           "linecolor": "white",
           "ticks": "",
           "title": {
            "standoff": 15
           },
           "zerolinecolor": "white",
           "zerolinewidth": 2
          },
          "yaxis": {
           "automargin": true,
           "gridcolor": "white",
           "linecolor": "white",
           "ticks": "",
           "title": {
            "standoff": 15
           },
           "zerolinecolor": "white",
           "zerolinewidth": 2
          }
         }
        },
        "title": {
         "text": "Feature Correlation Heatmap",
         "x": 0.5
        },
        "width": 950,
        "xaxis": {
         "anchor": "y",
         "constrain": "domain",
         "domain": [
          0,
          1
         ],
         "scaleanchor": "y"
        },
        "yaxis": {
         "anchor": "x",
         "autorange": "reversed",
         "constrain": "domain",
         "domain": [
          0,
          1
         ]
        }
       }
      }
     },
     "metadata": {},
     "output_type": "display_data"
    }
   ],
   "source": [
    "# Load neccesarry libraries\n",
    "import plotly.express as px\n",
    "\n",
    "# Calculate the correlation matrix\n",
    "correlation_matrix = model_data.corr()\n",
    "\n",
    "# Create an interactive heatmap using\n",
    "fig = px.imshow(\n",
    "    correlation_matrix,\n",
    "    aspect=\"equal\",\n",
    "    color_continuous_scale='RdBu',\n",
    "    title='Feature Correlation Heatmap'\n",
    ")\n",
    "fig.update_layout(\n",
    "    width=950,  \n",
    "    height=950, \n",
    "    title_x=0.5\n",
    ")\n",
    "fig.show()"
   ]
  },
  {
   "cell_type": "markdown",
   "id": "b4adf6d8",
   "metadata": {},
   "source": [
    "The correlation heatmap tells us that there is a strong negative correlation between `country_LV` and `country_US` (-0.63), as well as moderate negative correlations between `country_LV` and `country_KR` (-0.36) and `country_LV` and `country_TW` (-0.34). These patterns represent the somewhat obvious mutually exclusive behavior of location-based features: the more I listen in one country, the less I listen in others.\n",
    "\n",
    "Additionally, `track_play_count` and `artist_popularity` have a moderate positive correlation (0.34), which is intuitive since artists with frequently played songs in my dataset are more popular. `time_of_day` dummy features also show correlations with each other, which is expected due to the categorical encoding.\n",
    "\n",
    "These correlated features *can* induce multicollinearity, potentially inflating variance in the model I choose and making coefficient estimates less stable. \n",
    "\n",
    "Given these observations, I decide to keep all features for now, as each encodes important information for predicting skips, but I will keep an eye on feature importance and correlations during modeling.\n",
    "\n",
    "Speaking of skipping songs, I also compare average feature values between skipped and non-skipped songs in the code cell below."
   ]
  },
  {
   "cell_type": "code",
   "execution_count": 55,
   "id": "23801027",
   "metadata": {},
   "outputs": [
    {
     "data": {
      "text/html": [
       "<div>\n",
       "<style scoped>\n",
       "    .dataframe tbody tr th:only-of-type {\n",
       "        vertical-align: middle;\n",
       "    }\n",
       "\n",
       "    .dataframe tbody tr th {\n",
       "        vertical-align: top;\n",
       "    }\n",
       "\n",
       "    .dataframe thead th {\n",
       "        text-align: right;\n",
       "    }\n",
       "</style>\n",
       "<table border=\"1\" class=\"dataframe\">\n",
       "  <thead>\n",
       "    <tr style=\"text-align: right;\">\n",
       "      <th>skipped</th>\n",
       "      <th>False</th>\n",
       "      <th>True</th>\n",
       "    </tr>\n",
       "  </thead>\n",
       "  <tbody>\n",
       "    <tr>\n",
       "      <th>shuffle</th>\n",
       "      <td>6.640330e-01</td>\n",
       "      <td>6.367365e-01</td>\n",
       "    </tr>\n",
       "    <tr>\n",
       "      <th>offline</th>\n",
       "      <td>3.449827e-02</td>\n",
       "      <td>4.259635e-02</td>\n",
       "    </tr>\n",
       "    <tr>\n",
       "      <th>weekend</th>\n",
       "      <td>3.224923e-01</td>\n",
       "      <td>2.900158e-01</td>\n",
       "    </tr>\n",
       "    <tr>\n",
       "      <th>track_play_count</th>\n",
       "      <td>2.455260e+01</td>\n",
       "      <td>2.443737e+01</td>\n",
       "    </tr>\n",
       "    <tr>\n",
       "      <th>artist_popularity</th>\n",
       "      <td>5.818545e-03</td>\n",
       "      <td>5.685235e-03</td>\n",
       "    </tr>\n",
       "    <tr>\n",
       "      <th>seconds_since_last_play</th>\n",
       "      <td>2.156630e+06</td>\n",
       "      <td>2.281028e+06</td>\n",
       "    </tr>\n",
       "    <tr>\n",
       "      <th>repeat_artist</th>\n",
       "      <td>1.052940e-01</td>\n",
       "      <td>1.469011e-01</td>\n",
       "    </tr>\n",
       "    <tr>\n",
       "      <th>song_age_days</th>\n",
       "      <td>2.298900e+03</td>\n",
       "      <td>2.523138e+03</td>\n",
       "    </tr>\n",
       "    <tr>\n",
       "      <th>song_age_in_career_days</th>\n",
       "      <td>1.445941e+03</td>\n",
       "      <td>1.590381e+03</td>\n",
       "    </tr>\n",
       "    <tr>\n",
       "      <th>country_AR</th>\n",
       "      <td>2.321397e-02</td>\n",
       "      <td>3.696191e-03</td>\n",
       "    </tr>\n",
       "    <tr>\n",
       "      <th>country_IT</th>\n",
       "      <td>3.715800e-04</td>\n",
       "      <td>2.794681e-03</td>\n",
       "    </tr>\n",
       "    <tr>\n",
       "      <th>country_JP</th>\n",
       "      <td>1.975241e-03</td>\n",
       "      <td>1.848096e-03</td>\n",
       "    </tr>\n",
       "    <tr>\n",
       "      <th>country_KR</th>\n",
       "      <td>7.466802e-02</td>\n",
       "      <td>7.807077e-02</td>\n",
       "    </tr>\n",
       "    <tr>\n",
       "      <th>country_LV</th>\n",
       "      <td>6.260145e-01</td>\n",
       "      <td>5.827361e-01</td>\n",
       "    </tr>\n",
       "    <tr>\n",
       "      <th>country_NL</th>\n",
       "      <td>0.000000e+00</td>\n",
       "      <td>1.352265e-04</td>\n",
       "    </tr>\n",
       "    <tr>\n",
       "      <th>country_SE</th>\n",
       "      <td>5.867053e-05</td>\n",
       "      <td>4.507550e-05</td>\n",
       "    </tr>\n",
       "    <tr>\n",
       "      <th>country_TR</th>\n",
       "      <td>1.955684e-05</td>\n",
       "      <td>1.081812e-03</td>\n",
       "    </tr>\n",
       "    <tr>\n",
       "      <th>country_TW</th>\n",
       "      <td>7.079577e-02</td>\n",
       "      <td>6.017579e-02</td>\n",
       "    </tr>\n",
       "    <tr>\n",
       "      <th>country_US</th>\n",
       "      <td>1.729803e-01</td>\n",
       "      <td>2.538201e-01</td>\n",
       "    </tr>\n",
       "    <tr>\n",
       "      <th>country_UY</th>\n",
       "      <td>2.692977e-02</td>\n",
       "      <td>1.194501e-02</td>\n",
       "    </tr>\n",
       "    <tr>\n",
       "      <th>country_UZ</th>\n",
       "      <td>1.975241e-03</td>\n",
       "      <td>1.036737e-03</td>\n",
       "    </tr>\n",
       "    <tr>\n",
       "      <th>time_of_day_evening</th>\n",
       "      <td>2.848063e-01</td>\n",
       "      <td>2.368718e-01</td>\n",
       "    </tr>\n",
       "    <tr>\n",
       "      <th>time_of_day_morning</th>\n",
       "      <td>1.551835e-01</td>\n",
       "      <td>1.638044e-01</td>\n",
       "    </tr>\n",
       "    <tr>\n",
       "      <th>time_of_day_night</th>\n",
       "      <td>2.615532e-01</td>\n",
       "      <td>3.381564e-01</td>\n",
       "    </tr>\n",
       "    <tr>\n",
       "      <th>device_other</th>\n",
       "      <td>2.704711e-02</td>\n",
       "      <td>1.848096e-03</td>\n",
       "    </tr>\n",
       "    <tr>\n",
       "      <th>device_phone</th>\n",
       "      <td>5.997888e-01</td>\n",
       "      <td>7.310796e-01</td>\n",
       "    </tr>\n",
       "  </tbody>\n",
       "</table>\n",
       "</div>"
      ],
      "text/plain": [
       "skipped                         False         True \n",
       "shuffle                  6.640330e-01  6.367365e-01\n",
       "offline                  3.449827e-02  4.259635e-02\n",
       "weekend                  3.224923e-01  2.900158e-01\n",
       "track_play_count         2.455260e+01  2.443737e+01\n",
       "artist_popularity        5.818545e-03  5.685235e-03\n",
       "seconds_since_last_play  2.156630e+06  2.281028e+06\n",
       "repeat_artist            1.052940e-01  1.469011e-01\n",
       "song_age_days            2.298900e+03  2.523138e+03\n",
       "song_age_in_career_days  1.445941e+03  1.590381e+03\n",
       "country_AR               2.321397e-02  3.696191e-03\n",
       "country_IT               3.715800e-04  2.794681e-03\n",
       "country_JP               1.975241e-03  1.848096e-03\n",
       "country_KR               7.466802e-02  7.807077e-02\n",
       "country_LV               6.260145e-01  5.827361e-01\n",
       "country_NL               0.000000e+00  1.352265e-04\n",
       "country_SE               5.867053e-05  4.507550e-05\n",
       "country_TR               1.955684e-05  1.081812e-03\n",
       "country_TW               7.079577e-02  6.017579e-02\n",
       "country_US               1.729803e-01  2.538201e-01\n",
       "country_UY               2.692977e-02  1.194501e-02\n",
       "country_UZ               1.975241e-03  1.036737e-03\n",
       "time_of_day_evening      2.848063e-01  2.368718e-01\n",
       "time_of_day_morning      1.551835e-01  1.638044e-01\n",
       "time_of_day_night        2.615532e-01  3.381564e-01\n",
       "device_other             2.704711e-02  1.848096e-03\n",
       "device_phone             5.997888e-01  7.310796e-01"
      ]
     },
     "execution_count": 55,
     "metadata": {},
     "output_type": "execute_result"
    }
   ],
   "source": [
    "# Mean value of each feature in the skipped vs. not skipped groups\n",
    "model_data.groupby('skipped').mean().T"
   ]
  },
  {
   "cell_type": "markdown",
   "id": "2e98ec51",
   "metadata": {},
   "source": [
    "The information above aligns or contradicts with some of my predictions and creates new ones: \n",
    "\n",
    "* `seconds_since_last_play` and `repeat_artist` correlate with skipping\n",
    "* I skip more songs in the US and fewer in Latvia. \n",
    "* Skipping is more common during night time\n",
    "* Playing songs on my phone correlates with skipping them\n",
    "\n",
    "We can visualize these differences between skipped and non-skipped groups by scaling all features to a 0–1 range using the `MinMaxScaler` module to ensure that differences in magnitude do not bias the comparison. The plot below shows how the mean scaled values of each feature differ between skipped and non-skipped songs."
   ]
  },
  {
   "cell_type": "code",
   "execution_count": null,
   "id": "b390d157",
   "metadata": {},
   "outputs": [
    {
     "data": {
      "image/png": "[encoded data removed]",
      "text/plain": [
       "<Figure size 1500x800 with 1 Axes>"
      ]
     },
     "metadata": {},
     "output_type": "display_data"
    }
   ],
   "source": [
    "# Load neccesarry libraries and modules\n",
    "from sklearn.preprocessing import MinMaxScaler\n",
    "import seaborn as sns\n",
    "import matplotlib.pyplot as plt\n",
    "\n",
    "# Scale all features to a 0-1 range\n",
    "scaler = MinMaxScaler()\n",
    "data_scaled = pd.DataFrame(scaler.fit_transform(model_data), columns=model_data.columns)\n",
    "\n",
    "# Add the 'skipped' column back for grouping\n",
    "data_scaled['skipped'] = model_data['skipped'].values\n",
    "\n",
    "# Reshape the data from a wide format to a long format\n",
    "data_melted = data_scaled.melt(id_vars='skipped', var_name='Feature', value_name='Scaled Value')\n",
    "\n",
    "# Create a bar plot\n",
    "plt.figure(figsize=(15, 8))\n",
    "sns.barplot(x='Feature', y='Scaled Value', hue='skipped', data=data_melted)\n",
    "plt.xticks(rotation=90)\n",
    "plt.title('Average Feature Value by Skipped Status (Scaled 0-1)')\n",
    "plt.xlabel('Feature')\n",
    "plt.ylabel('Standardized Value (0 to 1)')\n",
    "plt.tight_layout()\n",
    "plt.show()"
   ]
  },
  {
   "cell_type": "markdown",
   "id": "d67e904d",
   "metadata": {},
   "source": [
    "Combined with the correlation matrix and the average feature value comparison across skipped and non-skipped songs, the plot above shows that the differences are small for many features, indicating that skips are influenced by multiple factors rather than a single dominant feature."
   ]
  },
  {
   "cell_type": "markdown",
   "id": "1623cfa7",
   "metadata": {},
   "source": [
    "## Splitting Data"
   ]
  },
  {
   "cell_type": "markdown",
   "id": "6453fe2b",
   "metadata": {},
   "source": [
    "To prepare the data for modeling, I separate the predictor variables (X) from the target variable (y). I then use an 80/20 split to split the data into training and test sets using `train_test_split` method from the `sklearn.model_selection` module. The training set will be used for model fitting and validation, while the test set will be the unseen data to evaluate generalization performance."
   ]
  },
  {
   "cell_type": "code",
   "execution_count": null,
   "id": "d9c3cd11",
   "metadata": {},
   "outputs": [
    {
     "name": "stdout",
     "output_type": "stream",
     "text": [
      "X_train proportion: 0.7999945443138111\n",
      "X_test proportion:  0.20000545568618894\n",
      "\n",
      "y_train proportion: 0.7999945443138111\n",
      "y_test proportion:  0.20000545568618894\n"
     ]
    }
   ],
   "source": [
    "# Load neccesarry module\n",
    "from sklearn.model_selection import train_test_split\n",
    "\n",
    "# Separate the features (X) from the target (y)\n",
    "X = model_data.drop(columns=['skipped']) \n",
    "y = model_data['skipped']\n",
    "\n",
    "# Create the data split (80% for train/validation, 20% for test)\n",
    "X_train, X_test, y_train, y_test = train_test_split(\n",
    "    X, y, \n",
    "    test_size=0.20,\n",
    "    random_state=37\n",
    ")\n",
    "\n",
    "# Print proportions of the resulting datasets\n",
    "print(f\"X_train proportion: {len(X_train) / (len(X_train) + len(X_test))}\")\n",
    "print(f\"X_test proportion:  {len(X_test) / (len(X_train) + len(X_test))}\")\n",
    "\n",
    "print(f\"\\ny_train proportion: {len(y_train) / (len(y_train) + len(y_test))}\")\n",
    "print(f\"y_test proportion:  {len(y_test) / (len(y_train) + len(y_test))}\")"
   ]
  },
  {
   "cell_type": "markdown",
   "id": "087c724c",
   "metadata": {},
   "source": [
    "The output of the code cell above confirms that the split has been made and the train/test proportion is approximately 80/20.\n",
    "\n",
    "## Selecting A Model \n",
    "\n",
    "Based on the problem statement, I have chosen **Random Forest Classifier** from the `sklearn.ensemble` module to classify whether a song will be skipped (`True`) or not skipped (`False`). On a high level, Random Forest is an *ensemle* learning method that builds multiple independent decision trees and combines their predictions to create the best-identified model. \n",
    "\n",
    "A decision tree is an algorithm that, at each node, tries to find the single best question (or \"split\") to ask about a feature to best separate the skipped from the non-skipped songs. To quantify \"best\", it uses a metric called *Gini Impurity*, which measures the probability of incorrectly classifying a randomly chosen element in a subset if it were randomly labeled according to the distribution of labels in that subset. The formula for Gini Impurity is:\n",
    "\n",
    "$$\n",
    "Gini = 1 - \\sum_{i=1}^{C} (p_i)^2,\n",
    "$$\n",
    "\n",
    "where $C$ is the number of categories (in this case, 2: skipped and non-skipped), $p_i$ is the proportion of samples belonging to category $i$ within the subset.\n",
    "\n",
    "A Gini score of 0 indicates a perfectly pure node (all samples are of one category), while a score of 0.5 represents a 50/50 split with maximum impurity. Decision tree algorithm's objective is to find the feature and split-point that results in the lowest weighted average Gini Impurity in the two resulting child nodes. It systematically evaluates potential splits for each feature and selects the one that provides the largest reduction in impurity (also known as *Information Gain*).\n",
    "\n",
    "The Random Forest algorithm combines hundreds of diverse decision trees into a single model (ensemble). The final parameters of the model is determined by a majority vote from all individual trees. The advantage of the Random Forest comes from the way it introduces randomness to decorrelate the trees.\n",
    "\n",
    "There are two key techniques employed to ensure the trees are different from one another:\n",
    "\n",
    "* *Bootstrap Aggregating (Bagging)*: Each individual tree is not trained on the entire training set. Instead, it is trained on a random sample of the data drawn with replacement. \n",
    "* *Feature Subspacing*: This is the \"random\" element. At each node in a tree, when the algorithm searches for the best split, it does not evaluate all available features. Instead, it first selects a random subset of features. It then proceeds with the *Gini Impurity* calculation to find the best split only within that random subset. It tries *all possible* splits for the chosen features on the chosen datapoints, preventing all trees from becoming reliant on the same few dominant features and requiring them to explore a broader range of predictive patterns and creating a more robust collective model.\n",
    "\n",
    "In the code cell below, my initial model is configured with `n_estimators=100`, meaning it will construct an ensemble of 100 individual decision trees. The parameters `max_depth=15` and `min_samples_leaf=5` are ways to prevent the trees from overfitting the data. `n_jobs=-1` tells the computer to use all available CPU cores for building the model. \n",
    "\n",
    "To get a reliable estimate of the model's performance on unseen data, I employ 5-fold cross-validation on the training set. This technique splits the training data into 5 equal \"folds.\" The model is trained 5 times, each time using 4 folds for training and the remaining 1 for validation. The final performance score is the average of the scores from these 5 rounds, providing a stable estimate of the model's generalization capability.\n",
    "\n",
    "Because I want to eliminate songs I don’t enjoy (i.e., accurately predict which songs I will skip), my goal is to minimize the number of false negatives (cases where the model fails to identify a song I would skip). In other words, I want the model to correctly classify skipped songs as skips as often as possible. Therefore, I use recall as the main evaluation metric, since it measures the proportion of actual positive cases (skipped songs) correctly identified by the model.\n",
    "\n",
    "**Note**: Increasing recall usually decreases precision (i.e., increases the proportion of false positives), but I am willing to accept this trade-off because the cost of getting a song I don’t like is higher than the cost of missing a song I might enjoy."
   ]
  },
  {
   "cell_type": "code",
   "execution_count": null,
   "id": "909863f1",
   "metadata": {},
   "outputs": [
    {
     "name": "stdout",
     "output_type": "stream",
     "text": [
      "Average Recall: 0.264 +/- 0.003\n",
      "              precision    recall  f1-score   support\n",
      "\n",
      "       False       0.75      0.97      0.85     10205\n",
      "        True       0.80      0.26      0.40      4459\n",
      "\n",
      "    accuracy                           0.76     14664\n",
      "   macro avg       0.77      0.62      0.62     14664\n",
      "weighted avg       0.77      0.76      0.71     14664\n",
      "\n"
     ]
    }
   ],
   "source": [
    "# Import necessary modules\n",
    "from sklearn.model_selection import cross_val_score\n",
    "from sklearn.ensemble import RandomForestClassifier\n",
    "from sklearn.metrics import classification_report\n",
    "from sklearn.metrics import ConfusionMatrixDisplay\n",
    "\n",
    "# Initialize a Random Forest model\n",
    "initial_model = RandomForestClassifier(\n",
    "    n_estimators=100,\n",
    "    max_depth=15,\n",
    "    min_samples_leaf=5,\n",
    "    random_state=42,\n",
    "    n_jobs=-1\n",
    ")\n",
    "\n",
    "# Evaluate the model using 5-fold cross-validation\n",
    "scores = cross_val_score(\n",
    "    estimator=initial_model,\n",
    "    X=X_train,\n",
    "    y=y_train,\n",
    "    cv=5,\n",
    "    scoring='recall',\n",
    "    n_jobs=-1\n",
    ")\n",
    "\n",
    "# Show average performance\n",
    "print(f\"Average Recall: {scores.mean():.3f} +/- {scores.std():.3f}\")\n",
    "\n",
    "# Train the model on the training set\n",
    "initial_model.fit(X_train, y_train)\n",
    "\n",
    "# Evaluate the model\n",
    "y_pred = initial_model.predict(X_test)\n",
    "print(classification_report(y_test, y_pred))"
   ]
  },
  {
   "cell_type": "markdown",
   "id": "807bf842",
   "metadata": {},
   "source": [
    "The results from the initial Random Forest model confirm the concerns created by the imbalanced nature of the dataset. The 5-fold cross-validation yielded an average recall of 0.264, indicating that, on average, the model is only able to correctly identify about 26% of the songs I would actually skip.\n",
    "\n",
    "The `classification_report` also confirms the poor performance, as it shows a recall of 0.26 for the `True` (skipped) class. While the precision is high (0.80), the low recall means the model fails at what I want it to do the most and is too biased towards the majority \"non-skipped\" category.\n",
    "\n",
    "Let's visualize the confusion matrix of the initial model."
   ]
  },
  {
   "cell_type": "code",
   "execution_count": 59,
   "id": "4b76676f",
   "metadata": {},
   "outputs": [
    {
     "data": {
      "image/png": "[encoded data removed]",
      "text/plain": [
       "<Figure size 640x480 with 2 Axes>"
      ]
     },
     "metadata": {},
     "output_type": "display_data"
    }
   ],
   "source": [
    "# Create and display the confusion matrix for the initial model\n",
    "ConfusionMatrixDisplay.from_estimator(\n",
    "    initial_model, \n",
    "    X_test, \n",
    "    y_test,\n",
    "    cmap=plt.cm.Greens\n",
    ")\n",
    "plt.title('Confusion Matrix for Skip Prediction (Test Set): Initial Model')\n",
    "plt.show()"
   ]
  },
  {
   "cell_type": "markdown",
   "id": "25e6cf68",
   "metadata": {},
   "source": [
    "The confusion matrix aligns with the classification report and shows that there are far more false negatives (3285) than true positives (1174), which does not satisfy the goals of the project. \n",
    "\n",
    "## Creating A Weighted Model\n",
    "\n",
    "To address the issue of category imbalance, I build a second Random Forest Classifier model with setting the `class_weight` parameter to `balanced`.\n",
    "\n",
    "It modifies the weight of each sample in the *Gini Impurity* calculation, giving a higher weight to samples from the minority class (\"skipped\") and a lower weight to the majority class (\"non-skipped\"), increasing the penalty for misclassifying a \"skip\". The expectation is that this will lead to an improvement in recall."
   ]
  },
  {
   "cell_type": "code",
   "execution_count": 60,
   "id": "4d11135f",
   "metadata": {},
   "outputs": [
    {
     "name": "stdout",
     "output_type": "stream",
     "text": [
      "Average Recall: 0.630 +/- 0.009\n",
      "              precision    recall  f1-score   support\n",
      "\n",
      "       False       0.83      0.76      0.79     10205\n",
      "        True       0.53      0.64      0.58      4459\n",
      "\n",
      "    accuracy                           0.72     14664\n",
      "   macro avg       0.68      0.70      0.69     14664\n",
      "weighted avg       0.74      0.72      0.73     14664\n",
      "\n"
     ]
    }
   ],
   "source": [
    "# Initialize a weighted Random Forest model\n",
    "weighted_model = RandomForestClassifier(\n",
    "    n_estimators=100,      \n",
    "    max_depth=15,          \n",
    "    min_samples_leaf=5,    \n",
    "    random_state=42,       \n",
    "    n_jobs=-1,\n",
    "    class_weight='balanced'\n",
    ")\n",
    "\n",
    "# Evaluate the weighted model using 5-fold cross-validation\n",
    "scores = cross_val_score(\n",
    "    estimator=weighted_model,\n",
    "    X=X_train,\n",
    "    y=y_train,\n",
    "    cv=5,\n",
    "    scoring='recall',\n",
    "    n_jobs=-1\n",
    ")\n",
    "\n",
    "# Show average performance\n",
    "print(f\"Average Recall: {scores.mean():.3f} +/- {scores.std():.3f}\")\n",
    "\n",
    "# Train the weighted model on the training set\n",
    "weighted_model.fit(X_train, y_train)\n",
    "\n",
    "# Evaluate the weighted model\n",
    "y_pred = weighted_model.predict(X_test)\n",
    "print(classification_report(y_test, y_pred))"
   ]
  },
  {
   "cell_type": "markdown",
   "id": "2d368ac5",
   "metadata": {},
   "source": [
    "As seen above, introducing `class_weight='balanced'` significantly improved model performance. The 5-fold cross-validation recall rose from 0.264 to 0.630, and the final test recall is now 0.64 for the `True` (skipped) category, meaning the model now correctly identifies approximately 64% of the songs I would skip.\n",
    "\n",
    "As expected, the gain in recall came with reduced precision (from 0.80 to 0.53), but the F1-score increased from 0.40 to 0.58, confirming a better balance between precision and recall. Overall, the model is now much more effective at its main goal: detecting songs I’m likely to skip.\n",
    "\n",
    "Let's visualize the confusion matrix for the weighted model."
   ]
  },
  {
   "cell_type": "code",
   "execution_count": 61,
   "id": "372d75f5",
   "metadata": {},
   "outputs": [
    {
     "data": {
      "image/png": "[encoded data removed]",
      "text/plain": [
       "<Figure size 640x480 with 2 Axes>"
      ]
     },
     "metadata": {},
     "output_type": "display_data"
    }
   ],
   "source": [
    "# Create and display the confusion matrix for the weighted model\n",
    "ConfusionMatrixDisplay.from_estimator(\n",
    "    weighted_model, \n",
    "    X_test, \n",
    "    y_test,\n",
    "    cmap=plt.cm.Greens\n",
    ")\n",
    "plt.title('Confusion Matrix for Skip Prediction (Test Set): Weighted Model')\n",
    "plt.show()"
   ]
  },
  {
   "cell_type": "markdown",
   "id": "6e43b9a6",
   "metadata": {},
   "source": [
    "The changes in the confusion matrix also align with the changes in the recall values, showing that the true positives increased (2848 instead of 1174), while false negatives decreased (1611 instead of 3285), getting me closer to what I want the model to do. Additionally, as implied in the discussion on precision, the false positives also increased (2478 instead of 298), while true negatives decreased (7727 instead of 9907) due to the weighing of the model. \n",
    "\n",
    "## Hyperparameter Tuning\n",
    "\n",
    "While the weighted Random Forest model performed better, I chose its initial configuration arbitrarily. To systematically find the optimal combination of these settings (hyperparameters), I perform a principled search using `Optuna`, an optimization framework to explore different combinations of hyperparameters to maximize recall.\n",
    "\n",
    "Instead of testing every combination (Grid Search) or choosing randomly, `Optuna` uses bayesian optimization, a more efficient approach. It learns from past trials to make increasingly informed decisions about which hyperparameter combinations to test next, focusing on the most promising areas of the search space.\n",
    "\n",
    "The optimization is done by an `Optuna` study, which runs a series of trials:\n",
    "\n",
    "1. Initial Exploration (First Trials): The first few trials are random, sampling diverse points in the search space.\n",
    "2. Building a Probabilistic Model: After each trial, the objective function trains a Random Forest with the suggested hyperparameters and returns its average 5-fold cross-validation recall. `Optuna` records these results and builds an internal surrogate model, mapping hyperparameters to performance scores.\n",
    "3. Informed Exploitation (Later Trials): Subsequent trials use this surrogate model to balance exploitation (testing promising regions) and exploration (testing less-explored areas). `Optuna` selects hyperparameters most likely to improve recall based on this learned model.\n",
    "\n",
    "This iterative search is more efficient than random guessing. The study, configured with `direction='maximize'`, performs this workflow. Running `study.optimize(objective, n_trials=20)` tells `Optuna` to perform 20 trials of this informed search.\n",
    "\n",
    "I also extract the best-performing hyperparameters from the study, which are used to train a final Random Forest on the full training dataset. This model represents the best possible solution given the data and is evaluated on the held-out test set for an unbiased assessment of performance."
   ]
  },
  {
   "cell_type": "code",
   "execution_count": null,
   "id": "8a544f4c",
   "metadata": {},
   "outputs": [
    {
     "name": "stdout",
     "output_type": "stream",
     "text": [
      "Best cross-validated recall score: 0.663\n",
      "Best hyperparameters found:\n",
      "  n_estimators: 410\n",
      "  max_depth: 11\n",
      "  min_samples_leaf: 12\n",
      "  min_samples_split: 9\n",
      "Final Model Metrics\n",
      "              precision    recall  f1-score   support\n",
      "\n",
      "       False       0.83      0.70      0.76     10205\n",
      "        True       0.49      0.67      0.57      4459\n",
      "\n",
      "    accuracy                           0.69     14664\n",
      "   macro avg       0.66      0.68      0.66     14664\n",
      "weighted avg       0.73      0.69      0.70     14664\n",
      "\n"
     ]
    }
   ],
   "source": [
    "# Import necessary libraries\n",
    "import optuna\n",
    "\n",
    "# Disable trial logging\n",
    "optuna.logging.set_verbosity(optuna.logging.ERROR)\n",
    "\n",
    "# Define the objective function for Optuna\n",
    "def objective(trial):\n",
    "    \"\"\"\n",
    "    Takes a \"trial\" object, suggests hyperparameters, trains a model, and returns a performance score.\n",
    "    \"\"\"\n",
    "\n",
    "    # Define the search space for the hyperparameters\n",
    "    n_estimators = trial.suggest_int('n_estimators', 50, 500)\n",
    "    max_depth = trial.suggest_int('max_depth', 5, 50)\n",
    "    min_samples_leaf = trial.suggest_int('min_samples_leaf', 1, 20)\n",
    "    min_samples_split = trial.suggest_int('min_samples_split', 2, 30)\n",
    "    \n",
    "    # Initialize the model with the suggested hyperparameters\n",
    "    model = RandomForestClassifier(\n",
    "        n_estimators=n_estimators,\n",
    "        max_depth=max_depth,\n",
    "        min_samples_leaf=min_samples_leaf,\n",
    "        min_samples_split=min_samples_split,\n",
    "        class_weight='balanced',\n",
    "        random_state=42,\n",
    "        n_jobs=-1\n",
    "    )\n",
    "    \n",
    "    # Get average ROC AUC score using 5-fold cross-validation\n",
    "    score = cross_val_score(\n",
    "        model, \n",
    "        X_train, \n",
    "        y_train, \n",
    "        scoring='recall',\n",
    "        cv=5,\n",
    "        n_jobs=-1\n",
    "    ).mean()\n",
    "    \n",
    "    return score\n",
    "\n",
    "# Create a study object and run the optimization with Optuna (20 trials)\n",
    "study = optuna.create_study(direction='maximize')\n",
    "study.optimize(objective, n_trials=20)\n",
    "\n",
    "# Print the best results from the study\n",
    "print(f\"Best cross-validated recall score: {study.best_trial.value:.3f}\")\n",
    "print(\"Best hyperparameters found:\")\n",
    "for key, value in study.best_trial.params.items():\n",
    "    print(f\"  {key}: {value}\")\n",
    "\n",
    "# Train the final model with the best hyperparameters\n",
    "best_params = study.best_trial.params\n",
    "final_model = RandomForestClassifier(\n",
    "    **best_params,\n",
    "    class_weight='balanced',\n",
    "    random_state=42,\n",
    "    n_jobs=-1\n",
    ")\n",
    "final_model.fit(X_train, y_train)\n",
    "\n",
    "# Evaluate the final model on the test set\n",
    "print(\"Final Model Metrics\")\n",
    "y_pred_tuned = final_model.predict(X_test)\n",
    "print(classification_report(y_test, y_pred_tuned))"
   ]
  },
  {
   "cell_type": "markdown",
   "id": "b4863903",
   "metadata": {},
   "source": [
    "The hyperparameter tuning process with `Optuna` has successfully identified hyperparameters that improved recall upon the previous weighted Random Forest. After 20 trials, the best cross-validated recall of 0.663 was achieved with the following hyperparameters:\n",
    "\n",
    "* `n_estimators`: 410\n",
    "* `max_depth`: 11\n",
    "* `min_samples_leaf`: 12\n",
    "* `min_samples_split`: 9\n",
    "\n",
    "The recall of 0.67 for the True (skipped) class is a modest but clear improvement over the 0.64 recall from the previous model.\n",
    "\n",
    "As expected, this also resulted in a decreased precision value (from 0.53 to 0.49), and the F1-score decreased slightly from 0.58 to 0.57, reflecting the trade-off in optimizing specifically for recall: the model is now better at identifying songs I will skip, even if it misclassifies more songs I would actually like.\n",
    "\n",
    "With the code below, I show the confusion matrix resulting from the final model."
   ]
  },
  {
   "cell_type": "code",
   "execution_count": 63,
   "id": "4e8c74fd",
   "metadata": {},
   "outputs": [
    {
     "data": {
      "image/png": "[encoded data removed]",
      "text/plain": [
       "<Figure size 640x480 with 2 Axes>"
      ]
     },
     "metadata": {},
     "output_type": "display_data"
    }
   ],
   "source": [
    "# Create and display the confusion matrix for the final model\n",
    "ConfusionMatrixDisplay.from_estimator(\n",
    "    final_model, \n",
    "    X_test, \n",
    "    y_test,\n",
    "    cmap=plt.cm.Greens\n",
    ")\n",
    "plt.title('Confusion Matrix for Skip Prediction (Test Set): Final Model')\n",
    "plt.show()"
   ]
  },
  {
   "cell_type": "markdown",
   "id": "c512f935",
   "metadata": {},
   "source": [
    "As seen above and on par with the updated recall value, the difference between true positives (2971) and false negatives (1488) is slightly higher than the difference in the weighted model (true positives: 2848, false negatives: 1611), though the change is relatively small. \n",
    "\n",
    "## Feature Importance\n",
    "\n",
    "With tuning complete, the next step is to interpret how the model makes its predictions. Random Forests provide feature importance scores, which measure how much each feature reduces Gini Impurity across all trees. Higher scores indicate larger influence in distinguishing “skipped” from “non-skipped” songs.\n",
    "\n",
    "The following code extracts the feature importance scores from the optimized model, sorts them in descending order, and visualizes the top 15 most influential features in a horizontal bar chart to show which factors most strongly \"help\" the model make predictions."
   ]
  },
  {
   "cell_type": "code",
   "execution_count": null,
   "id": "b915fc0f",
   "metadata": {},
   "outputs": [
    {
     "data": {
      "image/png": "[encoded data removed]",
      "text/plain": [
       "<Figure size 1000x700 with 1 Axes>"
      ]
     },
     "metadata": {},
     "output_type": "display_data"
    }
   ],
   "source": [
    "# Get importance scores and feature names\n",
    "importances = final_model.feature_importances_\n",
    "feature_names = X_train.columns\n",
    "\n",
    "feature_importance_df = pd.DataFrame({\n",
    "    'Feature': feature_names,\n",
    "    'Importance': importances\n",
    "})\n",
    "\n",
    "# Sort the features by importance and select the top 15\n",
    "top_features = feature_importance_df.sort_values(by='Importance', ascending=False).head(15)\n",
    "\n",
    "# Plot feature importance with value labels\n",
    "plt.figure(figsize=(10, 7))\n",
    "bars = plt.barh(\n",
    "    top_features['Feature'][::-1],\n",
    "    top_features['Importance'][::-1],\n",
    "    color='steelblue'\n",
    ")\n",
    "for bar in bars:\n",
    "    width = bar.get_width()\n",
    "    plt.text(\n",
    "        width + 0.005,\n",
    "        bar.get_y() + bar.get_height() / 2,\n",
    "        f'{width:.3f}',\n",
    "        va='center'\n",
    "    )\n",
    "plt.grid(axis='x', linestyle='--', alpha=0.6)\n",
    "plt.title('Top 15 Most Important Features for Predicting Song Skips')\n",
    "plt.xlabel('Importance Score')\n",
    "plt.ylabel('Feature')\n",
    "max_importance = top_features['Importance'].max()\n",
    "plt.xlim(0, max_importance * 1.15) \n",
    "plt.tight_layout()\n",
    "plt.show()"
   ]
  },
  {
   "cell_type": "markdown",
   "id": "bc244bff",
   "metadata": {},
   "source": [
    "The feature importance plot above shows that my skipping behavior is primarily driven by `seconds_since_last_play`, which dominates with a score of 0.227, over twice that of any other feature. A second group of features, `song_age_days` (0.105), `device_phone` (0.103), and `artist_popularity` (0.087), reflects the influence of song novelty, artist preference, and listening context.\n",
    "\n",
    "To check the direction of the prediction from the first most important feature, I group data by how recently a song was played and calculate the average skip rate for each group in the code cell below. "
   ]
  },
  {
   "cell_type": "code",
   "execution_count": 65,
   "id": "43674361",
   "metadata": {},
   "outputs": [
    {
     "name": "stdout",
     "output_type": "stream",
     "text": [
      "recency\n",
      "Not Recent     0.278174\n",
      "Recent         0.232330\n",
      "Very Recent    0.403325\n",
      "Name: skipped, dtype: float64\n"
     ]
    }
   ],
   "source": [
    "# Create a new column to categorize recency\n",
    "def get_recency_category(seconds):\n",
    "    if seconds < 3600: # Less than 1 hour\n",
    "        return 'Very Recent'\n",
    "    elif seconds < 86400: # Less than 1 day\n",
    "        return 'Recent'\n",
    "    else:\n",
    "        return 'Not Recent'\n",
    "\n",
    "model_data = model_data.copy()\n",
    "model_data.loc[:, 'recency'] = model_data['seconds_since_last_play'].apply(get_recency_category)\n",
    "\n",
    "# Calculate the average skip rate for each category\n",
    "print(model_data.groupby('recency')['skipped'].mean())"
   ]
  },
  {
   "cell_type": "markdown",
   "id": "ff452219",
   "metadata": {},
   "source": [
    "The output of the code cell above shows that songs played within the last hour (`Very Recent`) have a 40.3% skip rate, which is much higher than for songs heard less recently. This confirms that the model correctly identified repetition fatigue as the primary driver for my skipping behavior, justifying why `seconds_since_last_play` is the most important predictive feature.\n",
    "\n",
    "## Executive Summary\n",
    "\n",
    "This project aimed to solve a personal annoyance: the somwhat constant need to skip songs on Spotify. The goal was to build a machine learning model using my own listening data that could predict whether I would skip a song. The initial plan to use audio features from Spotify's API was disturbed when the API access was disabled, forcing a pivot to a more focused challenge: *how accurately could I predict my own behavior using only my extended streaming history*?\n",
    "\n",
    "The project had the following iterative pipeline:\n",
    "\n",
    "![Process Pipeline](images/process_pipeline.png)\n",
    "\n",
    "1. I began by retrieving my entire listening history from Spotify, which came as a series of JSON files. After parsing this data, I performed feature engineering to create meaningful predictors. This involved extracting time-based features, calculating song and artist popularity based on my own listening patterns, and creating features that captured context.\n",
    "2. With the data prepared, I developed a series of models to find the best solution.\n",
    "    * First, an initial Random Forest model showed that due to the imbalanced nature of my data (I don't skip most songs), the model had a recall of only 0.26. It was failing to identify the very songs I wanted it to find.\n",
    "    * To fix this, I introduced a weighted Random Forest model using the `class_weight='balanced'` parameter. This allowed the model to pay more attention to the minority \"skipped\" class, resulting in an improvement in performance. The recall increased to 0.64, confirming this was a good approach.\n",
    "    * Finally, to get best possible performance, I performed hyperparameter tuning using `Optuna`. This search process optimized the model's settings to maximize recall, ultimately getting the final model's recall at 0.67.\n",
    "3. The feature importance analysis of the final model showed that the single most powerful predictor of a skip is repetition fatigue; the `seconds_since_last_play` feature was more than twice as important as any other. Secondary drivers included the song's age, my personal popularity score for the artist, and the listening device (specifically, whether I was on my phone).\n",
    "\n",
    "While the final model is a strong proof of concept, it has its limitations. A recall of 0.67 means it still misses about a third of the songs I'd skip, and this performance comes at the cost of lower precision. I believe the biggest improvement would come from access to the audio features I originally planned to use. Future work could also explore more advanced models like Gradient Boosting or engineer more complex \"session-based\" features to better understand the context of my listening."
   ]
  },
  {
   "cell_type": "markdown",
   "id": "69893085",
   "metadata": {},
   "source": [
    "*AI Statement*: Throughout this assignment, I engaged with Google's Gemini as an interactive partner to increase my understanding and navigate the complexities of the machine learning workflow. My use of the AI was not to find direct answers, but rather to facilitate a more dynamic learning process. For instance, in the initial stages, I used it for brainstorming different modeling approaches and validating my choice of a Random Forest for this specific problem. When deciding on an evaluation metric, I discussed the nuances of my imbalanced dataset with the AI, which helped me understand why prioritizing recall was more appropriate than using accuracy or ROC AUC. While the AI helped with generating code for functions like the Optuna objective function, my role was to adapt, integrate, and own that code within the project's logic. This process was most helpful during debugging and result interpretation, where I could present the AI with an error message or code cell output and use its feedback to construct a more insightful narrative from the model's output."
   ]
  }
 ],
 "metadata": {
  "kernelspec": {
   "display_name": "Python 3",
   "language": "python",
   "name": "python3"
  },
  "language_info": {
   "codemirror_mode": {
    "name": "ipython",
    "version": 3
   },
   "file_extension": ".py",
   "mimetype": "text/x-python",
   "name": "python",
   "nbconvert_exporter": "python",
   "pygments_lexer": "ipython3",
   "version": "3.12.2"
  }
 },
 "nbformat": 4,
 "nbformat_minor": 5
}
